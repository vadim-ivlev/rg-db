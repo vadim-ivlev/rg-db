{
 "cells": [
  {
   "cell_type": "markdown",
   "metadata": {},
   "source": [
    "Количество записей в таблицах Postgres и статей в Elastic\n",
    "--------------------"
   ]
  },
  {
   "cell_type": "code",
   "execution_count": 2,
   "metadata": {},
   "outputs": [],
   "source": [
    "import pandas as pd\n",
    "import psycopg2 as pg\n",
    "from elasticsearch import Elasticsearch\n",
    "import os\n",
    "import sys\n",
    "import ipywidgets as w\n",
    "import time\n",
    "\n",
    "pg_con = pg.connect(os.getenv('RGDSN'))\n",
    "es_con = Elasticsearch('http://es01:9200')\n",
    "\n",
    "def get_counts():\n",
    "    \"\"\" Возвращает число записей в таблицах Postgress и индексах Elastic\"\"\"\n",
    "    counts = {\n",
    "        \"PG: rubrics\" : pd.read_sql('SELECT count(1) FROM rubrics', pg_con)['count'][0],\n",
    "        \"PG: rubrics_objects\" : pd.read_sql('SELECT count(1) FROM rubrics_objects', pg_con)['count'][0],\n",
    "        \"PG: articles\" : pd.read_sql_query('SELECT count(1) FROM articles', pg_con)['count'][0],\n",
    "        \"articles: migration_status = 'error'\" : pd.read_sql(\"SELECT count(1) FROM articles WHERE migration_status = 'error'\", pg_con)['count'][0],\n",
    "        \"articles: process_status   = 'error'\" : pd.read_sql(\"SELECT count(1) FROM articles WHERE process_status = 'error'\", pg_con)['count'][0],\n",
    "        \"articles: process_status IS NULL    \" : pd.read_sql(\"SELECT count(1) FROM articles WHERE process_status IS NULL\", pg_con)['count'][0],\n",
    "        \"articles: process_status   = 'success'\" : pd.read_sql(\"SELECT count(1) FROM articles WHERE process_status = 'success'\", pg_con)['count'][0],\n",
    "        \"articles: elastic_status   = 'indexed'\" : pd.read_sql(\"SELECT count(1) FROM articles WHERE elastic_status = 'indexed'\", pg_con)['count'][0],\n",
    "        \"ES: articles\" : es_con.count(index='articles')['count'],\n",
    "    }\n",
    "    return counts\n",
    "\n",
    "def display_counts():\n",
    "    counts = get_counts()\n",
    "    display( pd.DataFrame.from_dict(counts,orient='index', columns=['count']) )\n",
    "    "
   ]
  },
  {
   "cell_type": "code",
   "execution_count": 3,
   "metadata": {},
   "outputs": [
    {
     "data": {
      "text/html": [
       "<div>\n",
       "<style scoped>\n",
       "    .dataframe tbody tr th:only-of-type {\n",
       "        vertical-align: middle;\n",
       "    }\n",
       "\n",
       "    .dataframe tbody tr th {\n",
       "        vertical-align: top;\n",
       "    }\n",
       "\n",
       "    .dataframe thead th {\n",
       "        text-align: right;\n",
       "    }\n",
       "</style>\n",
       "<table border=\"1\" class=\"dataframe\">\n",
       "  <thead>\n",
       "    <tr style=\"text-align: right;\">\n",
       "      <th></th>\n",
       "      <th>count</th>\n",
       "    </tr>\n",
       "  </thead>\n",
       "  <tbody>\n",
       "    <tr>\n",
       "      <th>PG: rubrics</th>\n",
       "      <td>1151</td>\n",
       "    </tr>\n",
       "    <tr>\n",
       "      <th>PG: rubrics_objects</th>\n",
       "      <td>3117165</td>\n",
       "    </tr>\n",
       "    <tr>\n",
       "      <th>PG: articles</th>\n",
       "      <td>1226071</td>\n",
       "    </tr>\n",
       "    <tr>\n",
       "      <th>articles: migration_status = 'error'</th>\n",
       "      <td>3</td>\n",
       "    </tr>\n",
       "    <tr>\n",
       "      <th>articles: process_status   = 'error'</th>\n",
       "      <td>0</td>\n",
       "    </tr>\n",
       "    <tr>\n",
       "      <th>articles: process_status IS NULL</th>\n",
       "      <td>3</td>\n",
       "    </tr>\n",
       "    <tr>\n",
       "      <th>articles: process_status   = 'success'</th>\n",
       "      <td>1226068</td>\n",
       "    </tr>\n",
       "    <tr>\n",
       "      <th>articles: elastic_status   = 'indexed'</th>\n",
       "      <td>1226068</td>\n",
       "    </tr>\n",
       "    <tr>\n",
       "      <th>ES: articles</th>\n",
       "      <td>1226068</td>\n",
       "    </tr>\n",
       "  </tbody>\n",
       "</table>\n",
       "</div>"
      ],
      "text/plain": [
       "                                          count\n",
       "PG: rubrics                                1151\n",
       "PG: rubrics_objects                     3117165\n",
       "PG: articles                            1226071\n",
       "articles: migration_status = 'error'          3\n",
       "articles: process_status   = 'error'          0\n",
       "articles: process_status IS NULL              3\n",
       "articles: process_status   = 'success'  1226068\n",
       "articles: elastic_status   = 'indexed'  1226068\n",
       "ES: articles                            1226068"
      ]
     },
     "metadata": {},
     "output_type": "display_data"
    },
    {
     "name": "stdout",
     "output_type": "stream",
     "text": [
      "CPU times: user 85 ms, sys: 14.4 ms, total: 99.3 ms\n",
      "Wall time: 1.53 s\n"
     ]
    }
   ],
   "source": [
    "%%time\n",
    "display_counts()"
   ]
  },
  {
   "cell_type": "markdown",
   "metadata": {},
   "source": [
    "## Очистка ошибок в поле articles.migration_status"
   ]
  },
  {
   "cell_type": "code",
   "execution_count": 7,
   "metadata": {},
   "outputs": [
    {
     "data": {
      "text/html": [
       "<div>\n",
       "<style scoped>\n",
       "    .dataframe tbody tr th:only-of-type {\n",
       "        vertical-align: middle;\n",
       "    }\n",
       "\n",
       "    .dataframe tbody tr th {\n",
       "        vertical-align: top;\n",
       "    }\n",
       "\n",
       "    .dataframe thead th {\n",
       "        text-align: right;\n",
       "    }\n",
       "</style>\n",
       "<table border=\"1\" class=\"dataframe\">\n",
       "  <thead>\n",
       "    <tr style=\"text-align: right;\">\n",
       "      <th></th>\n",
       "      <th>obj_id</th>\n",
       "      <th>migration_status</th>\n",
       "    </tr>\n",
       "  </thead>\n",
       "  <tbody>\n",
       "    <tr>\n",
       "      <th>0</th>\n",
       "      <td>1984177</td>\n",
       "      <td>None</td>\n",
       "    </tr>\n",
       "    <tr>\n",
       "      <th>1</th>\n",
       "      <td>1983123</td>\n",
       "      <td>None</td>\n",
       "    </tr>\n",
       "    <tr>\n",
       "      <th>2</th>\n",
       "      <td>1983126</td>\n",
       "      <td>None</td>\n",
       "    </tr>\n",
       "  </tbody>\n",
       "</table>\n",
       "</div>"
      ],
      "text/plain": [
       "    obj_id migration_status\n",
       "0  1984177             None\n",
       "1  1983123             None\n",
       "2  1983126             None"
      ]
     },
     "execution_count": 7,
     "metadata": {},
     "output_type": "execute_result"
    }
   ],
   "source": [
    "pd.read_sql_query(\"UPDATE articles  SET migration_status = NULL WHERE migration_status = 'error' RETURNING obj_id, migration_status\", pg_con)"
   ]
  },
  {
   "cell_type": "markdown",
   "metadata": {},
   "source": [
    "Загружаем идентификаторы статей из Postgres\n",
    "-----------------------"
   ]
  },
  {
   "cell_type": "code",
   "execution_count": 4,
   "metadata": {},
   "outputs": [
    {
     "name": "stdout",
     "output_type": "stream",
     "text": [
      "Память под идентификаторы = 74.26 Mb\n"
     ]
    },
    {
     "data": {
      "text/html": [
       "<div>\n",
       "<style scoped>\n",
       "    .dataframe tbody tr th:only-of-type {\n",
       "        vertical-align: middle;\n",
       "    }\n",
       "\n",
       "    .dataframe tbody tr th {\n",
       "        vertical-align: top;\n",
       "    }\n",
       "\n",
       "    .dataframe thead th {\n",
       "        text-align: right;\n",
       "    }\n",
       "</style>\n",
       "<table border=\"1\" class=\"dataframe\">\n",
       "  <thead>\n",
       "    <tr style=\"text-align: right;\">\n",
       "      <th></th>\n",
       "      <th>obj_id</th>\n",
       "    </tr>\n",
       "  </thead>\n",
       "  <tbody>\n",
       "    <tr>\n",
       "      <th>0</th>\n",
       "      <td>125688</td>\n",
       "    </tr>\n",
       "    <tr>\n",
       "      <th>1</th>\n",
       "      <td>127125</td>\n",
       "    </tr>\n",
       "    <tr>\n",
       "      <th>2</th>\n",
       "      <td>127413</td>\n",
       "    </tr>\n",
       "    <tr>\n",
       "      <th>3</th>\n",
       "      <td>1702389</td>\n",
       "    </tr>\n",
       "    <tr>\n",
       "      <th>4</th>\n",
       "      <td>126881</td>\n",
       "    </tr>\n",
       "    <tr>\n",
       "      <th>...</th>\n",
       "      <td>...</td>\n",
       "    </tr>\n",
       "    <tr>\n",
       "      <th>1226066</th>\n",
       "      <td>127213</td>\n",
       "    </tr>\n",
       "    <tr>\n",
       "      <th>1226067</th>\n",
       "      <td>127895</td>\n",
       "    </tr>\n",
       "    <tr>\n",
       "      <th>1226068</th>\n",
       "      <td>125465</td>\n",
       "    </tr>\n",
       "    <tr>\n",
       "      <th>1226069</th>\n",
       "      <td>126115</td>\n",
       "    </tr>\n",
       "    <tr>\n",
       "      <th>1226070</th>\n",
       "      <td>1701015</td>\n",
       "    </tr>\n",
       "  </tbody>\n",
       "</table>\n",
       "<p>1226071 rows × 1 columns</p>\n",
       "</div>"
      ],
      "text/plain": [
       "          obj_id\n",
       "0         125688\n",
       "1         127125\n",
       "2         127413\n",
       "3        1702389\n",
       "4         126881\n",
       "...          ...\n",
       "1226066   127213\n",
       "1226067   127895\n",
       "1226068   125465\n",
       "1226069   126115\n",
       "1226070  1701015\n",
       "\n",
       "[1226071 rows x 1 columns]"
      ]
     },
     "metadata": {},
     "output_type": "display_data"
    },
    {
     "name": "stdout",
     "output_type": "stream",
     "text": [
      "CPU times: user 532 ms, sys: 152 ms, total: 684 ms\n",
      "Wall time: 1.6 s\n"
     ]
    }
   ],
   "source": [
    "%%time\n",
    "ids_pg_df = pd.read_sql('SELECT obj_id FROM articles limit 2000000', pg_con)\n",
    "# mem_mb = ids_pg_df.memory_usage(deep=True).sum()/1024/1024\n",
    "mem_mb = sys.getsizeof(ids_pg_df)/1024/1024\n",
    "print(f'Память под идентификаторы = {mem_mb:.2f} Mb')\n",
    "display(ids_pg_df)"
   ]
  },
  {
   "cell_type": "markdown",
   "metadata": {},
   "source": [
    "Загружаем идентификаторы статей из Еластик\n",
    "-----------------------"
   ]
  },
  {
   "cell_type": "code",
   "execution_count": 5,
   "metadata": {},
   "outputs": [],
   "source": [
    "def load_field_values(index_name:str, field_name:str, fetch_size:int) ->list:\n",
    "    \"\"\"Возвращает список значений поля из инедкса Эластик\"\"\"\n",
    "    \n",
    "    # Количество объектов\n",
    "    es_count = es_con.count(index=index_name)['count']\n",
    "    progress = w.IntProgress(min=0, max=es_count)\n",
    "    label = w.Label()\n",
    "    hbox = w.HBox([progress, label])\n",
    "    display(hbox)\n",
    "    start = time.time()\n",
    "    \n",
    "    def show_progress():\n",
    "        progress.value = len(ids)\n",
    "        label.value = f'{len(ids)}/{es_count} время {time.time()-start:.1f}/{(time.time()-start)*es_count/len(ids):.1f} sec'\n",
    "\n",
    "        \n",
    "    \n",
    "    ids = []\n",
    "\n",
    "    res = es_con.sql.query({\"query\": f\"select {field_name} from {index_name}\", \"fetch_size\":fetch_size })\n",
    "    ids.extend(row[0] for row in res['rows'])\n",
    "    cursor = res.get('cursor')\n",
    "    show_progress()\n",
    "\n",
    "    while cursor:\n",
    "        res = es_con.sql.query({\"cursor\": cursor})\n",
    "        ids.extend(row[0] for row in res['rows'])\n",
    "        cursor = res.get('cursor')\n",
    "        show_progress()\n",
    "\n",
    "    cursor_clearing_result = \"didn't try\"\n",
    "    if cursor:\n",
    "        cursor_clearing_result = es_con.sql.clear_cursor({\"cursor\":cursor})\n",
    "\n",
    "    return ids\n",
    "\n"
   ]
  },
  {
   "cell_type": "code",
   "execution_count": 6,
   "metadata": {},
   "outputs": [
    {
     "data": {
      "application/vnd.jupyter.widget-view+json": {
       "model_id": "68f3d2eebda64abfa77429acd9abd0cc",
       "version_major": 2,
       "version_minor": 0
      },
      "text/plain": [
       "HBox(children=(IntProgress(value=0, max=1226068), Label(value='')))"
      ]
     },
     "metadata": {},
     "output_type": "display_data"
    },
    {
     "name": "stdout",
     "output_type": "stream",
     "text": [
      "len=1226068 9.957992553710938 mb\n",
      "CPU times: user 2.3 s, sys: 145 ms, total: 2.44 s\n",
      "Wall time: 2min 37s\n"
     ]
    }
   ],
   "source": [
    "%%time\n",
    "ids_es = load_field_values(index_name='articles', field_name='obj_id', fetch_size='10000')\n",
    "mb = sys.getsizeof(ids_es)/1024/1024\n",
    "print(f'len={len(ids_es)} {mb} mb')"
   ]
  },
  {
   "cell_type": "code",
   "execution_count": 8,
   "metadata": {},
   "outputs": [
    {
     "data": {
      "text/plain": [
       "1226068"
      ]
     },
     "execution_count": 8,
     "metadata": {},
     "output_type": "execute_result"
    }
   ],
   "source": [
    "ids_es_set = set(ids_es)\n",
    "len(ids_es_set)"
   ]
  },
  {
   "cell_type": "code",
   "execution_count": 13,
   "metadata": {},
   "outputs": [
    {
     "data": {
      "text/plain": [
       "1226071"
      ]
     },
     "execution_count": 13,
     "metadata": {},
     "output_type": "execute_result"
    }
   ],
   "source": [
    "ids_pg_set = set(ids_pg_df['obj_id'].to_list())\n",
    "len(ids_pg_set)"
   ]
  },
  {
   "cell_type": "code",
   "execution_count": 14,
   "metadata": {},
   "outputs": [
    {
     "data": {
      "text/plain": [
       "{'1983123', '1983126', '1984177'}"
      ]
     },
     "execution_count": 14,
     "metadata": {},
     "output_type": "execute_result"
    }
   ],
   "source": [
    "ids_pg_set - ids_es_set"
   ]
  }
 ],
 "metadata": {
  "kernelspec": {
   "display_name": "Python 3",
   "language": "python",
   "name": "python3"
  },
  "language_info": {
   "codemirror_mode": {
    "name": "ipython",
    "version": 3
   },
   "file_extension": ".py",
   "mimetype": "text/x-python",
   "name": "python",
   "nbconvert_exporter": "python",
   "pygments_lexer": "ipython3",
   "version": "3.8.6"
  }
 },
 "nbformat": 4,
 "nbformat_minor": 4
}
