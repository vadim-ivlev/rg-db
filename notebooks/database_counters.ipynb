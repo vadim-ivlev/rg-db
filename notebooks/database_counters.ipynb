{
 "cells": [
  {
   "cell_type": "markdown",
   "metadata": {},
   "source": [
    "Количество записей в таблицах Postgres и статей в Elastic\n",
    "--------------------"
   ]
  },
  {
   "cell_type": "code",
   "execution_count": null,
   "metadata": {},
   "outputs": [],
   "source": [
    "import pandas as pd\n",
    "import psycopg2 as pg\n",
    "from elasticsearch import Elasticsearch\n",
    "# from pandasticsearch import Select\n",
    "import os\n",
    "import sys\n",
    "import ipywidgets as w\n",
    "import time\n",
    "import matplotlib.pyplot as plt\n",
    "import matplotlib as mpl\n",
    "# import plotly.graph_objects as go\n",
    "\n",
    "# Import seaborn\n",
    "import seaborn as sns\n",
    "\n",
    "# Apply the default theme\n",
    "sns.set_theme()\n",
    "\n",
    "pg_con = pg.connect(os.getenv('RGDSN'))\n",
    "\n",
    "RGUSER = 'admin'\n",
    "RGPASS = os.getenv('RGPASS')\n",
    "ELASTIC_ENDPOINT = 'http://dockertest.rgwork.ru:9094/elasticsearch/' if os.path.exists('local-file.txt') else 'http://es01:9200/'\n",
    "es_con = Elasticsearch(ELASTIC_ENDPOINT, http_auth=(RGUSER, RGPASS))\n",
    "\n",
    "\n",
    "def get_counts():\n",
    "    \"\"\" Возвращает число записей в таблицах Postgress и индексах Elastic\"\"\"\n",
    "    counts = {\n",
    "        \"PG: rubrics\" : pd.read_sql('SELECT count(1) FROM rubrics', pg_con)['count'][0],\n",
    "        \"PG: rubrics_objects\" : pd.read_sql('SELECT count(1) FROM rubrics_objects', pg_con)['count'][0],\n",
    "        \"PG: articles\" : pd.read_sql_query('SELECT count(1) FROM articles', pg_con)['count'][0],\n",
    "        \"articles: migration_status = 'error'\" : pd.read_sql(\"SELECT count(1) FROM articles WHERE migration_status = 'error'\", pg_con)['count'][0],\n",
    "        \"articles: process_status   = 'error'\" : pd.read_sql(\"SELECT count(1) FROM articles WHERE process_status = 'error'\", pg_con)['count'][0],\n",
    "        \"articles: process_status IS NULL    \" : pd.read_sql(\"SELECT count(1) FROM articles WHERE process_status IS NULL\", pg_con)['count'][0],\n",
    "        \"articles: process_status   = 'success'\" : pd.read_sql(\"SELECT count(1) FROM articles WHERE process_status = 'success'\", pg_con)['count'][0],\n",
    "        \"articles: elastic_status   = 'indexed'\" : pd.read_sql(\"SELECT count(1) FROM articles WHERE elastic_status = 'indexed'\", pg_con)['count'][0],\n",
    "        \"ES: articles\" : es_con.count(index='articles')['count'],\n",
    "    }\n",
    "    return counts\n",
    "\n",
    "def display_counts():\n",
    "    counts = get_counts()\n",
    "    display( pd.DataFrame.from_dict(counts,orient='index', columns=['count']) )\n",
    "    "
   ]
  },
  {
   "cell_type": "code",
   "execution_count": null,
   "metadata": {},
   "outputs": [],
   "source": [
    "%%time\n",
    "display_counts()"
   ]
  },
  {
   "cell_type": "code",
   "execution_count": null,
   "metadata": {},
   "outputs": [],
   "source": []
  },
  {
   "cell_type": "code",
   "execution_count": null,
   "metadata": {},
   "outputs": [],
   "source": [
    "\n",
    "body = {\n",
    "    \"size\": 0,\n",
    "    \"query\": {\n",
    "        \"range\": {\n",
    "            \"date_modified\": {\n",
    "                \"from\": \"now-2d/h\"\n",
    "           }\n",
    "        }\n",
    "    },\n",
    "    \"aggs\": {\n",
    "        \"articles_over_time\": {\n",
    "            \"date_histogram\": {\n",
    "                \"field\": \"date_modified\",\n",
    "                \"calendar_interval\": \"hour\"\n",
    "            }\n",
    "        }\n",
    "    }\n",
    "}\n",
    "\n",
    "\n",
    "result = es_con.search(body,'articles')\n",
    "buckets = result['aggregations']['articles_over_time']['buckets']\n",
    "df = pd.DataFrame.from_dict(buckets)\n",
    "# display(df)\n",
    "\n",
    "\n",
    "mpl.rcParams['figure.figsize'] = [15.0, 7.0]\n",
    "# mpl.rcParams['figure.dpi'] = 72\n",
    "# mpl.rcParams['savefig.dpi'] = 100\n",
    "# mpl.rcParams['font.size'] = 12\n",
    "# mpl.rcParams['legend.fontsize'] = 'medium'\n",
    "# mpl.rcParams['figure.titlesize'] = 'medium'\n",
    "%config InlineBackend.figure_format = 'svg'\n",
    "df.plot(kind='bar',x='key_as_string',y='doc_count');\n"
   ]
  },
  {
   "cell_type": "markdown",
   "metadata": {},
   "source": [
    "## Очистка ошибок в поле articles.migration_status"
   ]
  },
  {
   "cell_type": "code",
   "execution_count": null,
   "metadata": {},
   "outputs": [],
   "source": [
    "pd.read_sql_query(\"DELETE from articles WHERE migration_status = 'error' RETURNING obj_id, migration_status\", pg_con)"
   ]
  },
  {
   "cell_type": "markdown",
   "metadata": {},
   "source": [
    "Загружаем идентификаторы статей из Postgres\n",
    "-----------------------"
   ]
  },
  {
   "cell_type": "code",
   "execution_count": null,
   "metadata": {},
   "outputs": [],
   "source": [
    "%%time\n",
    "ids_pg_df = pd.read_sql('SELECT obj_id FROM articles limit 2000000', pg_con)\n",
    "# mem_mb = ids_pg_df.memory_usage(deep=True).sum()/1024/1024\n",
    "mem_mb = sys.getsizeof(ids_pg_df)/1024/1024\n",
    "print(f'Память под идентификаторы = {mem_mb:.2f} Mb')\n",
    "display(ids_pg_df)"
   ]
  },
  {
   "cell_type": "markdown",
   "metadata": {},
   "source": [
    "Загружаем идентификаторы статей из Еластик\n",
    "-----------------------"
   ]
  },
  {
   "cell_type": "code",
   "execution_count": null,
   "metadata": {},
   "outputs": [],
   "source": [
    "def load_field_values(index_name:str, field_name:str, fetch_size:int) ->list:\n",
    "    \"\"\"Возвращает список значений поля из инедкса Эластик\"\"\"\n",
    "    \n",
    "    # Количество объектов\n",
    "    es_count = es_con.count(index=index_name)['count']\n",
    "    progress = w.IntProgress(min=0, max=es_count)\n",
    "    label = w.Label()\n",
    "    hbox = w.HBox([progress, label])\n",
    "    display(hbox)\n",
    "    start = time.time()\n",
    "    \n",
    "    def show_progress():\n",
    "        progress.value = len(ids)\n",
    "        label.value = f'{len(ids)}/{es_count} время {time.time()-start:.1f}/{(time.time()-start)*es_count/len(ids):.1f} sec'\n",
    "\n",
    "        \n",
    "    \n",
    "    ids = []\n",
    "\n",
    "    res = es_con.sql.query({\"query\": f\"select {field_name} from {index_name}\", \"fetch_size\":fetch_size })\n",
    "    ids.extend(row[0] for row in res['rows'])\n",
    "    cursor = res.get('cursor')\n",
    "    show_progress()\n",
    "\n",
    "    while cursor:\n",
    "        res = es_con.sql.query({\"cursor\": cursor})\n",
    "        ids.extend(row[0] for row in res['rows'])\n",
    "        cursor = res.get('cursor')\n",
    "        show_progress()\n",
    "\n",
    "    cursor_clearing_result = \"didn't try\"\n",
    "    if cursor:\n",
    "        cursor_clearing_result = es_con.sql.clear_cursor({\"cursor\":cursor})\n",
    "\n",
    "    return ids\n",
    "\n"
   ]
  },
  {
   "cell_type": "code",
   "execution_count": null,
   "metadata": {},
   "outputs": [],
   "source": [
    "%%time\n",
    "ids_es = load_field_values(index_name='articles', field_name='obj_id', fetch_size='10000')\n",
    "mb = sys.getsizeof(ids_es)/1024/1024\n",
    "print(f'len={len(ids_es)} {mb} mb')"
   ]
  },
  {
   "cell_type": "code",
   "execution_count": null,
   "metadata": {},
   "outputs": [],
   "source": [
    "ids_es_set = set(ids_es)\n",
    "len(ids_es_set)"
   ]
  },
  {
   "cell_type": "code",
   "execution_count": null,
   "metadata": {},
   "outputs": [],
   "source": [
    "ids_pg_set = set(ids_pg_df['obj_id'].to_list())\n",
    "len(ids_pg_set)"
   ]
  },
  {
   "cell_type": "code",
   "execution_count": null,
   "metadata": {},
   "outputs": [],
   "source": [
    "ids_pg_set - ids_es_set"
   ]
  }
 ],
 "metadata": {
  "kernelspec": {
   "display_name": "Python 3",
   "language": "python",
   "name": "python3"
  },
  "language_info": {
   "codemirror_mode": {
    "name": "ipython",
    "version": 3
   },
   "file_extension": ".py",
   "mimetype": "text/x-python",
   "name": "python",
   "nbconvert_exporter": "python",
   "pygments_lexer": "ipython3",
   "version": "3.8.6"
  }
 },
 "nbformat": 4,
 "nbformat_minor": 4
}