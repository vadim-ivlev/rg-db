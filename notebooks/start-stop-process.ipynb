{
 "cells": [
  {
   "cell_type": "code",
   "execution_count": 1,
   "metadata": {},
   "outputs": [
    {
     "data": {
      "application/vnd.jupyter.widget-view+json": {
       "model_id": "0f76b265d1ee4cb09260a5f7ac26ba93",
       "version_major": 2,
       "version_minor": 0
      },
      "text/plain": [
       "HBox(children=(Button(description='start', style=ButtonStyle()), Button(description='stop', style=ButtonStyle(…"
      ]
     },
     "metadata": {},
     "output_type": "display_data"
    }
   ],
   "source": [
    "import multiprocessing\n",
    "import time\n",
    "from ipywidgets import Button, HBox, VBox\n",
    "import os\n",
    "import sys\n",
    "import logging as log\n",
    "\n",
    "p = None\n",
    "ii = 0\n",
    "\n",
    "def bar():\n",
    "    global ii\n",
    "    for i in range(1000):\n",
    "        s= f\"{i} Tick ii={ii}\\n\"\n",
    "        f = open(str(os.getpid()) + \".txt\", \"a\")\n",
    "        f.write(s)\n",
    "        f.close()        \n",
    "        print(s)\n",
    "        ii+=1\n",
    "        time.sleep(2)\n",
    "\n",
    "        \n",
    "def start(e):\n",
    "    global p\n",
    "    \n",
    "        \n",
    "    if p and p.is_alive():\n",
    "        log.error('Stop the process first')\n",
    "        return\n",
    "        \n",
    "    p = multiprocessing.Process(target=bar)\n",
    "    p.start()\n",
    "        \n",
    "def stop(e):\n",
    "    global p\n",
    "    if not p :\n",
    "        log.warning('No process.')\n",
    "        return\n",
    "    \n",
    "    if not p.is_alive():   \n",
    "        log.warning('Process is dead')\n",
    "        return\n",
    "        \n",
    "        \n",
    "    print(f'joining p={p}')\n",
    "    p.join(3)\n",
    "    time.sleep(1)\n",
    "    print('joined')\n",
    "\n",
    "    \n",
    "    if p.is_alive():\n",
    "        log.info(\"terminating...\")\n",
    "        p.terminate()\n",
    "        time.sleep(1)\n",
    "        if p.is_alive():\n",
    "            print(\"killing...\")\n",
    "            p.kill()\n",
    "        p.join()\n",
    "\n",
    "    print(\"alive\" if p.is_alive() else \"dead\")    \n",
    "\n",
    "\n",
    "button_start = Button(description='start');button_start.on_click(start)\n",
    "button_stop = Button(description='stop');button_stop.on_click(stop)\n",
    "buttons = HBox([button_start, button_stop])\n",
    "display(buttons)\n"
   ]
  },
  {
   "cell_type": "code",
   "execution_count": 2,
   "metadata": {},
   "outputs": [
    {
     "data": {
      "text/plain": [
       "0"
      ]
     },
     "execution_count": 2,
     "metadata": {},
     "output_type": "execute_result"
    }
   ],
   "source": [
    "ii\n"
   ]
  }
 ],
 "metadata": {
  "kernelspec": {
   "display_name": "Python 3",
   "language": "python",
   "name": "python3"
  },
  "language_info": {
   "codemirror_mode": {
    "name": "ipython",
    "version": 3
   },
   "file_extension": ".py",
   "mimetype": "text/x-python",
   "name": "python",
   "nbconvert_exporter": "python",
   "pygments_lexer": "ipython3",
   "version": "3.8.6"
  }
 },
 "nbformat": 4,
 "nbformat_minor": 4
}
