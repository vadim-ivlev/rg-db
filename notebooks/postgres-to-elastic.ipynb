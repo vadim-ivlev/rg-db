{
 "cells": [
  {
   "cell_type": "markdown",
   "metadata": {},
   "source": [
    "Экспорт таблиц из Postgres в Elasticsearch\n",
    "========================\n",
    "\n",
    "Таблицы копируются как есть, без изменений в базе данных Postgres.\n",
    "\n",
    "\n",
    "To access notebook via ssh: `$ ssh -N -L 8888:localhost:8888 {user}@{server_ip}`"
   ]
  },
  {
   "cell_type": "code",
   "execution_count": 1,
   "metadata": {
    "jupyter": {
     "source_hidden": true
    }
   },
   "outputs": [],
   "source": [
    "import os\n",
    "import csv\n",
    "import json\n",
    "import sys\n",
    "import requests\n",
    "from pprint import pprint\n",
    "import psycopg2\n",
    "import psycopg2.extras  \n",
    "import ipywidgets as widgets\n",
    "import time"
   ]
  },
  {
   "cell_type": "code",
   "execution_count": 2,
   "metadata": {
    "jupyter": {
     "source_hidden": true
    }
   },
   "outputs": [
    {
     "name": "stdout",
     "output_type": "stream",
     "text": [
      "host=rg-db-prod port=5432 dbname=rgdb user=root password=rosgas2011 sslmode=disable\n",
      "rosgas2011\n"
     ]
    }
   ],
   "source": [
    "print(os.getenv('RGDSN'))\n",
    "print(os.getenv('RGPASS'))"
   ]
  },
  {
   "cell_type": "code",
   "execution_count": 3,
   "metadata": {
    "jupyter": {
     "source_hidden": true
    }
   },
   "outputs": [],
   "source": [
    "RGUSER = 'admin'\n",
    "RGPASS = os.getenv('RGPASS')\n",
    "RGDSN = os.getenv('RGDSN')\n",
    "# input directory\n",
    "source_dir = \"/home/jovyan/work/csv/\"\n",
    "\n",
    "# elastic endpoint\n",
    "ELASTIC_ENDPOINT = \"http://rg-corpus-caddy:8080/elasticsearch/\"\n",
    "\n",
    "\n",
    "\n",
    "\n",
    "def save_batch(lines: list, elastic_endpoint:str, index_name:str):\n",
    "    \"\"\"saves batch of lines to database\"\"\"\n",
    "    data = '\\n'.join(lines)+'\\n'\n",
    "    r = requests.post(f'{elastic_endpoint}{index_name}/_bulk', \n",
    "                      headers = {'Content-Type': 'application/x-ndjson; charset=UTF-8'}, \n",
    "                      auth=(RGUSER,RGPASS),\n",
    "                      data=data.encode('utf-8'))\n",
    "    try:\n",
    "        rjson=r.json()\n",
    "        if rjson.get('errors') is not False:\n",
    "            pprint(rjson)\n",
    "    except:\n",
    "        pprint(r)\n",
    "        \n",
    "    \n",
    "def set_progress(p1,p2, val):\n",
    "    if p1 is not None:\n",
    "        p1.value = val\n",
    "    if p2 is not None:\n",
    "        p2.value = str(val)\n",
    "\n",
    "def save_table_to_elastic(table_name: str, idname: str, elastic_endpoint:str, index_name:str,  max_number=0, batch_size=1000):\n",
    "    \"\"\"Копировать таблицу в elasticsearch, как есть, без изменений в базе данных Postgres.\n",
    "\n",
    "    - table_name - name of postgres table\n",
    "    - max_number - max number of records to save\n",
    "    - batch_size  - number of records in a batch \n",
    "    \"\"\"\n",
    "    p1 = widgets.IntProgress(min=0, max=max_number) \n",
    "    p2 = widgets.Label()\n",
    "    box = widgets.HBox([p1,p2])\n",
    "    display(box)\n",
    "    \n",
    "    start = time.time()\n",
    "    counter =0    # aka record id \n",
    "    lines =[]     # list of text lines to save\n",
    "    conn = psycopg2.connect(RGDSN)\n",
    "    try:\n",
    "        with conn:\n",
    "            with conn.cursor('servercursor') as curs:\n",
    "                curs.execute(f\"SELECT {idname}, row_to_json(r,FALSE)::text FROM {table_name} r LIMIT {max_number}\")\n",
    "#                 curs.itersize=4000\n",
    "                for record in curs:\n",
    "                    if counter >= max_number: break\n",
    "                    elastic_id = counter if record[0] is None else record[0]\n",
    "                    lines.append('{\"index\" : {\"_id\" : \"'+str(elastic_id)+'\"}}')\n",
    "                    lines.append(record[1])\n",
    "                    counter += 1\n",
    "                    if counter % batch_size ==0:\n",
    "                        duration = (time.time()-start)/60\n",
    "#                         print(f'counter = {counter}----------------')\n",
    "#                         set_progress(p1,p2, counter)\n",
    "                        p1.value=counter; p2.value = f'{counter}/{max_number}. Время {duration:.2f} мин'\n",
    "                        save_batch(lines, elastic_endpoint, index_name)\n",
    "                        lines.clear()\n",
    "#                 print(f'counter = {counter}----------------')\n",
    "#                 set_progress(p1,p2, counter)\n",
    "                p1.value=counter; p2.value = f'{counter}/{max_number}. Время {duration:.2f} мин'\n",
    "                save_batch(lines, elastic_endpoint, index_name)\n",
    "                lines.clear()\n",
    "       \n",
    "    except Exception as ex:\n",
    "        print(ex)\n",
    "    finally:\n",
    "        conn.close()    \n",
    "    \n"
   ]
  },
  {
   "cell_type": "markdown",
   "metadata": {},
   "source": [
    "## Проверки соединений"
   ]
  },
  {
   "cell_type": "code",
   "execution_count": 4,
   "metadata": {
    "jupyter": {
     "source_hidden": true
    }
   },
   "outputs": [
    {
     "data": {
      "text/plain": [
       "'Есть контакт!'"
      ]
     },
     "metadata": {},
     "output_type": "display_data"
    }
   ],
   "source": [
    "# проверки\n",
    "r = requests.get(ELASTIC_ENDPOINT, auth=(RGUSER, RGPASS))\n",
    "display(\"Есть контакт!\" if r.status_code==200 else r.status_code)\n"
   ]
  },
  {
   "cell_type": "markdown",
   "metadata": {},
   "source": [
    "## Импорт таблиц в Эластик "
   ]
  },
  {
   "cell_type": "code",
   "execution_count": 5,
   "metadata": {},
   "outputs": [
    {
     "data": {
      "application/vnd.jupyter.widget-view+json": {
       "model_id": "c5c461b880fc4afbb4cfb1624b40bebe",
       "version_major": 2,
       "version_minor": 0
      },
      "text/plain": [
       "HBox(children=(IntProgress(value=0, max=2000), Label(value='')))"
      ]
     },
     "metadata": {},
     "output_type": "display_data"
    }
   ],
   "source": [
    "save_table_to_elastic('rubrics', 'id', ELASTIC_ENDPOINT, 'rubrics', 2000 , 500)"
   ]
  },
  {
   "cell_type": "code",
   "execution_count": 6,
   "metadata": {},
   "outputs": [
    {
     "data": {
      "application/vnd.jupyter.widget-view+json": {
       "model_id": "49c0b34a4a69410b834cfdae61f73cb3",
       "version_major": 2,
       "version_minor": 0
      },
      "text/plain": [
       "HBox(children=(IntProgress(value=0, max=3500000), Label(value='')))"
      ]
     },
     "metadata": {},
     "output_type": "display_data"
    }
   ],
   "source": [
    "save_table_to_elastic('rubrics_objects', \"kind || '-' || rubric_id || '-' || object_id\", ELASTIC_ENDPOINT, 'rubrics_objects', 3500000 , 10000)"
   ]
  },
  {
   "cell_type": "code",
   "execution_count": 7,
   "metadata": {},
   "outputs": [
    {
     "data": {
      "application/vnd.jupyter.widget-view+json": {
       "model_id": "a57caf09eedb498ba15872692de7d7c6",
       "version_major": 2,
       "version_minor": 0
      },
      "text/plain": [
       "HBox(children=(IntProgress(value=0, max=1250000), Label(value='')))"
      ]
     },
     "metadata": {},
     "output_type": "display_data"
    }
   ],
   "source": [
    "save_table_to_elastic('articles', 'obj_id', ELASTIC_ENDPOINT, 'articles', 1250000 , 5000)"
   ]
  },
  {
   "cell_type": "code",
   "execution_count": null,
   "metadata": {},
   "outputs": [],
   "source": []
  }
 ],
 "metadata": {
  "kernelspec": {
   "display_name": "Python 3",
   "language": "python",
   "name": "python3"
  },
  "language_info": {
   "codemirror_mode": {
    "name": "ipython",
    "version": 3
   },
   "file_extension": ".py",
   "mimetype": "text/x-python",
   "name": "python",
   "nbconvert_exporter": "python",
   "pygments_lexer": "ipython3",
   "version": "3.8.6"
  }
 },
 "nbformat": 4,
 "nbformat_minor": 4
}
