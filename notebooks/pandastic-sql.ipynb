{
 "cells": [
  {
   "cell_type": "markdown",
   "metadata": {},
   "source": [
    "## SQL запросы к Elasticsearch"
   ]
  },
  {
   "cell_type": "code",
   "execution_count": 4,
   "metadata": {},
   "outputs": [],
   "source": [
    "import pandas as pd\n",
    "import pandasticsearch as ps\n",
    "from elasticsearch import Elasticsearch\n",
    "import plotly.graph_objects as go\n",
    "import plotly.express as px\n",
    "import time\n",
    "import os\n",
    "import qgrid\n",
    "from pprint import pprint, pp"
   ]
  },
  {
   "cell_type": "markdown",
   "metadata": {},
   "source": [
    "Задаем конечную точку, текст SQL запроса и соединение с Elastics."
   ]
  },
  {
   "cell_type": "code",
   "execution_count": 5,
   "metadata": {},
   "outputs": [],
   "source": [
    "elastic_url = 'http://dockertest.rgwork.ru:9094/elasticsearch/' if os.path.exists('local-file.txt') else 'http://es01:9200/'\n",
    "# print(elastic_url)\n",
    "sql = '''\n",
    "SELECT HISTOGRAM(date_modified, INTERVAL 1 HOUR) as interval, count(*) as count \n",
    "FROM articles \n",
    "GROUP by interval \n",
    "ORDER BY interval \n",
    "DESC LIMIT 100 \n",
    "'''\n",
    "\n",
    "ps_client = ps.RestClient(elastic_url, '_sql')"
   ]
  },
  {
   "cell_type": "code",
   "execution_count": null,
   "metadata": {},
   "outputs": [
    {
     "data": {
      "application/vnd.jupyter.widget-view+json": {
       "model_id": "2feb2ca7665743a2bb0853b5b59b2dea",
       "version_major": 2,
       "version_minor": 0
      },
      "text/plain": [
       "FigureWidget({\n",
       "    'data': [{'alignmentgroup': 'True',\n",
       "              'hovertemplate': 'x=%{x}<br>y=%{y}<extra>…"
      ]
     },
     "metadata": {},
     "output_type": "display_data"
    }
   ],
   "source": [
    "def create_plot_widget():\n",
    "    fig = px.bar(x=['a'], y=[1], \n",
    "                 title='Статей за час', \n",
    "                 template='plotly_white')\n",
    "    fig.update_traces(marker_color='#3CC')\n",
    "    fig.layout.yaxis.title.text = 'статей за час'\n",
    "    fig.layout.xaxis.title.text = 'время'\n",
    "    fig.update_xaxes(showgrid=True, gridwidth=1)\n",
    "    fig.layout.title.font.size = 40\n",
    "    fig.layout.title.x = 0.5\n",
    "    fig.layout.title.y = 0.9\n",
    "    return go.FigureWidget(fig)\n",
    "\n",
    "def update_plot_widget(widg, xvalues, yvalues):\n",
    "    bar = widg.data[0]\n",
    "    bar.x = xvalues\n",
    "    bar.y = yvalues\n",
    "    bar.text = bar.y.tolist()\n",
    "    \n",
    "def update_plot_n_times(widg, sql, times=10, delay=5):\n",
    "    if not widg:\n",
    "        return\n",
    "    \n",
    "    for i in range(times):\n",
    "        res = ps_client.post({'query':sql})\n",
    "        df = pd.DataFrame.from_records(res['rows'],columns=[c['name'] for c in res['columns']])         \n",
    "        update_plot_widget(widg, df['interval'], df['count'])\n",
    "        widg.layout.title = f'Request {i+1}/{times}'\n",
    "        time.sleep(delay)        \n",
    "    \n",
    "print(__name__)   \n",
    "pw = create_plot_widget()\n",
    "display(pw)\n",
    "\n",
    "update_plot_n_times(pw, sql, times=100, delay=10)"
   ]
  },
  {
   "cell_type": "code",
   "execution_count": null,
   "metadata": {},
   "outputs": [],
   "source": [
    "import multiprocessing\n",
    "import time\n",
    "\n",
    "# object to save module variables\n",
    "HISTOGRAM = {\n",
    "    'process': None\n",
    "    'total':0,\n",
    "    'totla_last_day':0,\n",
    "}\n",
    "\n",
    "# bar\n",
    "def bar():\n",
    "    for i in range(100):\n",
    "        print(f\"Tick {i}\")\n",
    "        time.sleep(10)\n",
    "\n",
    "if __name__ == '__main__':\n",
    "    # Start bar as a process\n",
    "    p = multiprocessing.Process(target=bar)\n",
    "    p.start()\n",
    "\n",
    "    # Wait for 10 seconds or until process finishes\n",
    "    print('joining')\n",
    "    p.join(1)\n",
    "    print('joined')\n",
    "\n",
    "    # If thread is still active\n",
    "    if p.is_alive():\n",
    "        print(\"running... let's kill it...\")\n",
    "\n",
    "        # Terminate - may not work if process is stuck for good\n",
    "        p.terminate()\n",
    "        # OR Kill - will work for sure, no chance for process to finish nicely however\n",
    "#         p.kill()\n",
    "\n",
    "        p.join()\n",
    "    print(\"alive\" if p.is_alive() else \"dead\")"
   ]
  },
  {
   "cell_type": "markdown",
   "metadata": {},
   "source": [
    "TODO\n",
    "=====\n",
    "\n",
    "- заменить запрос на нормальный\n",
    "- обойтись без панды\n",
    "- сделать кнопки пуска останова обновления диаграммы\n",
    "- add counter annotation (всего и за прошедшие сутки)\n",
    "- pack code into a class\n"
   ]
  },
  {
   "cell_type": "code",
   "execution_count": 12,
   "metadata": {},
   "outputs": [
    {
     "data": {
      "text/html": [
       "<style>\n",
       "h1,h2,h3,h4,h5 {\n",
       "    /* color:gray;*/\n",
       "    font-weight:bold !important;\n",
       "}\n",
       "</style>\n"
      ],
      "text/plain": [
       "<IPython.core.display.HTML object>"
      ]
     },
     "metadata": {},
     "output_type": "display_data"
    }
   ],
   "source": [
    "%%html\n",
    "<style>\n",
    "h1,h2,h3,h4,h5 {\n",
    "    /* color:gray;*/\n",
    "    font-weight:bold !important;\n",
    "}\n",
    "</style>"
   ]
  }
 ],
 "metadata": {
  "kernelspec": {
   "display_name": "Python 3",
   "language": "python",
   "name": "python3"
  },
  "language_info": {
   "codemirror_mode": {
    "name": "ipython",
    "version": 3
   },
   "file_extension": ".py",
   "mimetype": "text/x-python",
   "name": "python",
   "nbconvert_exporter": "python",
   "pygments_lexer": "ipython3",
   "version": "3.8.6"
  }
 },
 "nbformat": 4,
 "nbformat_minor": 4
}
