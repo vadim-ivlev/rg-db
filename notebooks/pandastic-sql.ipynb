{
 "cells": [
  {
   "cell_type": "markdown",
   "metadata": {},
   "source": [
    "## SQL запросы к Elasticsearch"
   ]
  },
  {
   "cell_type": "code",
   "execution_count": 1,
   "metadata": {},
   "outputs": [],
   "source": [
    "import pandas as pd\n",
    "import pandasticsearch as ps\n",
    "from elasticsearch import Elasticsearch\n",
    "import plotly.graph_objects as go\n",
    "import plotly.express as px\n",
    "import time"
   ]
  },
  {
   "cell_type": "markdown",
   "metadata": {},
   "source": [
    "Вспомогательная функция **sql_result_to_dataframe**(sql_res) \n",
    "преобразует результат выполнения SQL запроса в Dataframe"
   ]
  },
  {
   "cell_type": "code",
   "execution_count": 2,
   "metadata": {},
   "outputs": [],
   "source": [
    "def sql_result_to_dataframe(sql_res):\n",
    "    \"\"\" Преобразует результат выполнения SQL запроса в Dataframe\n",
    "    \"\"\"\n",
    "    rows = sql_res['rows']\n",
    "    cols = sql_res['columns']\n",
    "    col_names = [c['name'] for c in cols]\n",
    "    return pd.DataFrame.from_records(rows,columns=col_names)"
   ]
  },
  {
   "cell_type": "code",
   "execution_count": 3,
   "metadata": {},
   "outputs": [],
   "source": [
    "def update_data(sql):\n",
    "    result = ps_client.post({'query':sql})\n",
    "    return sql_result_to_dataframe(result)\n",
    "    \n",
    "    \n",
    "def update_plot(figure_widget,sql):\n",
    "    dataframe = update_data(sql)\n",
    "    bar = figure_widget.data[0]\n",
    "    bar.x = dataframe['interval']\n",
    "    bar.y = dataframe['count']\n",
    "    bar.text = bar.y.tolist()\n",
    "\n",
    "def update_plot_several_times(figure_widget,sql, times, delay=5):\n",
    "    for i in range(times):\n",
    "        update_plot(figure_widget,sql)\n",
    "        figure_widget.layout.title = f'Request {i}/{times}'\n",
    "        time.sleep(delay)        "
   ]
  },
  {
   "cell_type": "markdown",
   "metadata": {},
   "source": [
    "Задаем конечную точку Elasticsearch и текст SQL запроса"
   ]
  },
  {
   "cell_type": "code",
   "execution_count": 34,
   "metadata": {},
   "outputs": [],
   "source": [
    "elastic_url = 'http://es01:9200/'\n",
    "\n",
    "sql = '''\n",
    "SELECT HISTOGRAM(date_modified, INTERVAL 1 HOUR) as interval, count(*) as count FROM articles GROUP by interval ORDER BY interval DESC LIMIT 100 \n",
    "'''"
   ]
  },
  {
   "cell_type": "markdown",
   "metadata": {},
   "source": [
    "Создаем соединения с базой данных"
   ]
  },
  {
   "cell_type": "code",
   "execution_count": 35,
   "metadata": {},
   "outputs": [],
   "source": [
    "ps_client = ps.RestClient(elastic_url, '_sql')"
   ]
  },
  {
   "cell_type": "code",
   "execution_count": 36,
   "metadata": {},
   "outputs": [],
   "source": [
    "dataframe = update_data(sql)\n",
    "# display(dataframe.head(3))"
   ]
  },
  {
   "cell_type": "code",
   "execution_count": 53,
   "metadata": {},
   "outputs": [
    {
     "data": {
      "application/vnd.plotly.v1+json": {
       "config": {
        "plotlyServerURL": "https://plot.ly"
       },
       "data": [
        {
         "alignmentgroup": "True",
         "hovertemplate": "interval=%{x}<br>count=%{text}<extra></extra>",
         "legendgroup": "",
         "marker": {
          "color": "#636efa"
         },
         "name": "",
         "offsetgroup": "",
         "orientation": "v",
         "showlegend": false,
         "text": [
          12,
          22,
          30,
          35,
          32,
          42,
          40,
          28,
          19,
          6,
          8,
          11,
          7,
          3,
          5,
          5,
          3,
          4,
          8,
          9,
          9,
          24,
          24,
          30,
          41,
          22,
          26,
          30,
          31,
          40,
          25,
          27,
          28,
          35,
          11,
          6,
          3,
          3,
          7,
          15,
          10,
          12,
          10,
          20,
          19,
          23,
          19,
          29,
          32,
          31,
          25,
          28,
          48,
          37,
          26,
          19,
          17,
          13,
          3,
          5,
          6,
          5,
          7,
          4,
          5,
          11,
          8,
          7,
          10,
          22,
          37,
          25,
          23,
          27,
          34,
          35,
          28,
          28,
          22,
          24,
          15,
          5,
          6,
          5,
          4,
          4,
          3,
          3,
          3,
          3,
          7,
          12,
          12,
          10,
          8,
          10,
          10,
          4,
          8,
          8
         ],
         "textposition": "auto",
         "type": "bar",
         "x": [
          "2020-11-12T17:00:00.000Z",
          "2020-11-12T16:00:00.000Z",
          "2020-11-12T15:00:00.000Z",
          "2020-11-12T14:00:00.000Z",
          "2020-11-12T13:00:00.000Z",
          "2020-11-12T12:00:00.000Z",
          "2020-11-12T11:00:00.000Z",
          "2020-11-12T10:00:00.000Z",
          "2020-11-12T09:00:00.000Z",
          "2020-11-12T08:00:00.000Z",
          "2020-11-12T07:00:00.000Z",
          "2020-11-12T06:00:00.000Z",
          "2020-11-12T05:00:00.000Z",
          "2020-11-12T04:00:00.000Z",
          "2020-11-12T03:00:00.000Z",
          "2020-11-12T02:00:00.000Z",
          "2020-11-12T01:00:00.000Z",
          "2020-11-12T00:00:00.000Z",
          "2020-11-11T23:00:00.000Z",
          "2020-11-11T22:00:00.000Z",
          "2020-11-11T21:00:00.000Z",
          "2020-11-11T20:00:00.000Z",
          "2020-11-11T19:00:00.000Z",
          "2020-11-11T18:00:00.000Z",
          "2020-11-11T17:00:00.000Z",
          "2020-11-11T16:00:00.000Z",
          "2020-11-11T15:00:00.000Z",
          "2020-11-11T14:00:00.000Z",
          "2020-11-11T13:00:00.000Z",
          "2020-11-11T12:00:00.000Z",
          "2020-11-11T11:00:00.000Z",
          "2020-11-11T10:00:00.000Z",
          "2020-11-11T09:00:00.000Z",
          "2020-11-11T08:00:00.000Z",
          "2020-11-11T07:00:00.000Z",
          "2020-11-11T06:00:00.000Z",
          "2020-11-11T05:00:00.000Z",
          "2020-11-11T04:00:00.000Z",
          "2020-11-11T03:00:00.000Z",
          "2020-11-11T02:00:00.000Z",
          "2020-11-11T01:00:00.000Z",
          "2020-11-11T00:00:00.000Z",
          "2020-11-10T23:00:00.000Z",
          "2020-11-10T22:00:00.000Z",
          "2020-11-10T21:00:00.000Z",
          "2020-11-10T20:00:00.000Z",
          "2020-11-10T19:00:00.000Z",
          "2020-11-10T18:00:00.000Z",
          "2020-11-10T17:00:00.000Z",
          "2020-11-10T16:00:00.000Z",
          "2020-11-10T15:00:00.000Z",
          "2020-11-10T14:00:00.000Z",
          "2020-11-10T13:00:00.000Z",
          "2020-11-10T12:00:00.000Z",
          "2020-11-10T11:00:00.000Z",
          "2020-11-10T10:00:00.000Z",
          "2020-11-10T09:00:00.000Z",
          "2020-11-10T08:00:00.000Z",
          "2020-11-10T07:00:00.000Z",
          "2020-11-10T06:00:00.000Z",
          "2020-11-10T05:00:00.000Z",
          "2020-11-10T04:00:00.000Z",
          "2020-11-10T03:00:00.000Z",
          "2020-11-10T02:00:00.000Z",
          "2020-11-10T01:00:00.000Z",
          "2020-11-10T00:00:00.000Z",
          "2020-11-09T23:00:00.000Z",
          "2020-11-09T22:00:00.000Z",
          "2020-11-09T21:00:00.000Z",
          "2020-11-09T20:00:00.000Z",
          "2020-11-09T19:00:00.000Z",
          "2020-11-09T18:00:00.000Z",
          "2020-11-09T17:00:00.000Z",
          "2020-11-09T16:00:00.000Z",
          "2020-11-09T15:00:00.000Z",
          "2020-11-09T14:00:00.000Z",
          "2020-11-09T13:00:00.000Z",
          "2020-11-09T12:00:00.000Z",
          "2020-11-09T11:00:00.000Z",
          "2020-11-09T10:00:00.000Z",
          "2020-11-09T09:00:00.000Z",
          "2020-11-09T08:00:00.000Z",
          "2020-11-09T07:00:00.000Z",
          "2020-11-09T06:00:00.000Z",
          "2020-11-09T05:00:00.000Z",
          "2020-11-09T04:00:00.000Z",
          "2020-11-09T03:00:00.000Z",
          "2020-11-09T02:00:00.000Z",
          "2020-11-09T01:00:00.000Z",
          "2020-11-09T00:00:00.000Z",
          "2020-11-08T23:00:00.000Z",
          "2020-11-08T22:00:00.000Z",
          "2020-11-08T21:00:00.000Z",
          "2020-11-08T20:00:00.000Z",
          "2020-11-08T19:00:00.000Z",
          "2020-11-08T18:00:00.000Z",
          "2020-11-08T17:00:00.000Z",
          "2020-11-08T16:00:00.000Z",
          "2020-11-08T15:00:00.000Z",
          "2020-11-08T14:00:00.000Z"
         ],
         "xaxis": "x",
         "y": [
          12,
          22,
          30,
          35,
          32,
          42,
          40,
          28,
          19,
          6,
          8,
          11,
          7,
          3,
          5,
          5,
          3,
          4,
          8,
          9,
          9,
          24,
          24,
          30,
          41,
          22,
          26,
          30,
          31,
          40,
          25,
          27,
          28,
          35,
          11,
          6,
          3,
          3,
          7,
          15,
          10,
          12,
          10,
          20,
          19,
          23,
          19,
          29,
          32,
          31,
          25,
          28,
          48,
          37,
          26,
          19,
          17,
          13,
          3,
          5,
          6,
          5,
          7,
          4,
          5,
          11,
          8,
          7,
          10,
          22,
          37,
          25,
          23,
          27,
          34,
          35,
          28,
          28,
          22,
          24,
          15,
          5,
          6,
          5,
          4,
          4,
          3,
          3,
          3,
          3,
          7,
          12,
          12,
          10,
          8,
          10,
          10,
          4,
          8,
          8
         ],
         "yaxis": "y"
        }
       ],
       "layout": {
        "autosize": true,
        "barmode": "relative",
        "legend": {
         "tracegroupgap": 0
        },
        "margin": {
         "t": 60
        },
        "template": {
         "data": {
          "bar": [
           {
            "error_x": {
             "color": "#2a3f5f"
            },
            "error_y": {
             "color": "#2a3f5f"
            },
            "marker": {
             "line": {
              "color": "#E5ECF6",
              "width": 0.5
             }
            },
            "type": "bar"
           }
          ],
          "barpolar": [
           {
            "marker": {
             "line": {
              "color": "#E5ECF6",
              "width": 0.5
             }
            },
            "type": "barpolar"
           }
          ],
          "carpet": [
           {
            "aaxis": {
             "endlinecolor": "#2a3f5f",
             "gridcolor": "white",
             "linecolor": "white",
             "minorgridcolor": "white",
             "startlinecolor": "#2a3f5f"
            },
            "baxis": {
             "endlinecolor": "#2a3f5f",
             "gridcolor": "white",
             "linecolor": "white",
             "minorgridcolor": "white",
             "startlinecolor": "#2a3f5f"
            },
            "type": "carpet"
           }
          ],
          "choropleth": [
           {
            "colorbar": {
             "outlinewidth": 0,
             "ticks": ""
            },
            "type": "choropleth"
           }
          ],
          "contour": [
           {
            "colorbar": {
             "outlinewidth": 0,
             "ticks": ""
            },
            "colorscale": [
             [
              0,
              "#0d0887"
             ],
             [
              0.1111111111111111,
              "#46039f"
             ],
             [
              0.2222222222222222,
              "#7201a8"
             ],
             [
              0.3333333333333333,
              "#9c179e"
             ],
             [
              0.4444444444444444,
              "#bd3786"
             ],
             [
              0.5555555555555556,
              "#d8576b"
             ],
             [
              0.6666666666666666,
              "#ed7953"
             ],
             [
              0.7777777777777778,
              "#fb9f3a"
             ],
             [
              0.8888888888888888,
              "#fdca26"
             ],
             [
              1,
              "#f0f921"
             ]
            ],
            "type": "contour"
           }
          ],
          "contourcarpet": [
           {
            "colorbar": {
             "outlinewidth": 0,
             "ticks": ""
            },
            "type": "contourcarpet"
           }
          ],
          "heatmap": [
           {
            "colorbar": {
             "outlinewidth": 0,
             "ticks": ""
            },
            "colorscale": [
             [
              0,
              "#0d0887"
             ],
             [
              0.1111111111111111,
              "#46039f"
             ],
             [
              0.2222222222222222,
              "#7201a8"
             ],
             [
              0.3333333333333333,
              "#9c179e"
             ],
             [
              0.4444444444444444,
              "#bd3786"
             ],
             [
              0.5555555555555556,
              "#d8576b"
             ],
             [
              0.6666666666666666,
              "#ed7953"
             ],
             [
              0.7777777777777778,
              "#fb9f3a"
             ],
             [
              0.8888888888888888,
              "#fdca26"
             ],
             [
              1,
              "#f0f921"
             ]
            ],
            "type": "heatmap"
           }
          ],
          "heatmapgl": [
           {
            "colorbar": {
             "outlinewidth": 0,
             "ticks": ""
            },
            "colorscale": [
             [
              0,
              "#0d0887"
             ],
             [
              0.1111111111111111,
              "#46039f"
             ],
             [
              0.2222222222222222,
              "#7201a8"
             ],
             [
              0.3333333333333333,
              "#9c179e"
             ],
             [
              0.4444444444444444,
              "#bd3786"
             ],
             [
              0.5555555555555556,
              "#d8576b"
             ],
             [
              0.6666666666666666,
              "#ed7953"
             ],
             [
              0.7777777777777778,
              "#fb9f3a"
             ],
             [
              0.8888888888888888,
              "#fdca26"
             ],
             [
              1,
              "#f0f921"
             ]
            ],
            "type": "heatmapgl"
           }
          ],
          "histogram": [
           {
            "marker": {
             "colorbar": {
              "outlinewidth": 0,
              "ticks": ""
             }
            },
            "type": "histogram"
           }
          ],
          "histogram2d": [
           {
            "colorbar": {
             "outlinewidth": 0,
             "ticks": ""
            },
            "colorscale": [
             [
              0,
              "#0d0887"
             ],
             [
              0.1111111111111111,
              "#46039f"
             ],
             [
              0.2222222222222222,
              "#7201a8"
             ],
             [
              0.3333333333333333,
              "#9c179e"
             ],
             [
              0.4444444444444444,
              "#bd3786"
             ],
             [
              0.5555555555555556,
              "#d8576b"
             ],
             [
              0.6666666666666666,
              "#ed7953"
             ],
             [
              0.7777777777777778,
              "#fb9f3a"
             ],
             [
              0.8888888888888888,
              "#fdca26"
             ],
             [
              1,
              "#f0f921"
             ]
            ],
            "type": "histogram2d"
           }
          ],
          "histogram2dcontour": [
           {
            "colorbar": {
             "outlinewidth": 0,
             "ticks": ""
            },
            "colorscale": [
             [
              0,
              "#0d0887"
             ],
             [
              0.1111111111111111,
              "#46039f"
             ],
             [
              0.2222222222222222,
              "#7201a8"
             ],
             [
              0.3333333333333333,
              "#9c179e"
             ],
             [
              0.4444444444444444,
              "#bd3786"
             ],
             [
              0.5555555555555556,
              "#d8576b"
             ],
             [
              0.6666666666666666,
              "#ed7953"
             ],
             [
              0.7777777777777778,
              "#fb9f3a"
             ],
             [
              0.8888888888888888,
              "#fdca26"
             ],
             [
              1,
              "#f0f921"
             ]
            ],
            "type": "histogram2dcontour"
           }
          ],
          "mesh3d": [
           {
            "colorbar": {
             "outlinewidth": 0,
             "ticks": ""
            },
            "type": "mesh3d"
           }
          ],
          "parcoords": [
           {
            "line": {
             "colorbar": {
              "outlinewidth": 0,
              "ticks": ""
             }
            },
            "type": "parcoords"
           }
          ],
          "pie": [
           {
            "automargin": true,
            "type": "pie"
           }
          ],
          "scatter": [
           {
            "marker": {
             "colorbar": {
              "outlinewidth": 0,
              "ticks": ""
             }
            },
            "type": "scatter"
           }
          ],
          "scatter3d": [
           {
            "line": {
             "colorbar": {
              "outlinewidth": 0,
              "ticks": ""
             }
            },
            "marker": {
             "colorbar": {
              "outlinewidth": 0,
              "ticks": ""
             }
            },
            "type": "scatter3d"
           }
          ],
          "scattercarpet": [
           {
            "marker": {
             "colorbar": {
              "outlinewidth": 0,
              "ticks": ""
             }
            },
            "type": "scattercarpet"
           }
          ],
          "scattergeo": [
           {
            "marker": {
             "colorbar": {
              "outlinewidth": 0,
              "ticks": ""
             }
            },
            "type": "scattergeo"
           }
          ],
          "scattergl": [
           {
            "marker": {
             "colorbar": {
              "outlinewidth": 0,
              "ticks": ""
             }
            },
            "type": "scattergl"
           }
          ],
          "scattermapbox": [
           {
            "marker": {
             "colorbar": {
              "outlinewidth": 0,
              "ticks": ""
             }
            },
            "type": "scattermapbox"
           }
          ],
          "scatterpolar": [
           {
            "marker": {
             "colorbar": {
              "outlinewidth": 0,
              "ticks": ""
             }
            },
            "type": "scatterpolar"
           }
          ],
          "scatterpolargl": [
           {
            "marker": {
             "colorbar": {
              "outlinewidth": 0,
              "ticks": ""
             }
            },
            "type": "scatterpolargl"
           }
          ],
          "scatterternary": [
           {
            "marker": {
             "colorbar": {
              "outlinewidth": 0,
              "ticks": ""
             }
            },
            "type": "scatterternary"
           }
          ],
          "surface": [
           {
            "colorbar": {
             "outlinewidth": 0,
             "ticks": ""
            },
            "colorscale": [
             [
              0,
              "#0d0887"
             ],
             [
              0.1111111111111111,
              "#46039f"
             ],
             [
              0.2222222222222222,
              "#7201a8"
             ],
             [
              0.3333333333333333,
              "#9c179e"
             ],
             [
              0.4444444444444444,
              "#bd3786"
             ],
             [
              0.5555555555555556,
              "#d8576b"
             ],
             [
              0.6666666666666666,
              "#ed7953"
             ],
             [
              0.7777777777777778,
              "#fb9f3a"
             ],
             [
              0.8888888888888888,
              "#fdca26"
             ],
             [
              1,
              "#f0f921"
             ]
            ],
            "type": "surface"
           }
          ],
          "table": [
           {
            "cells": {
             "fill": {
              "color": "#EBF0F8"
             },
             "line": {
              "color": "white"
             }
            },
            "header": {
             "fill": {
              "color": "#C8D4E3"
             },
             "line": {
              "color": "white"
             }
            },
            "type": "table"
           }
          ]
         },
         "layout": {
          "annotationdefaults": {
           "arrowcolor": "#2a3f5f",
           "arrowhead": 0,
           "arrowwidth": 1
          },
          "coloraxis": {
           "colorbar": {
            "outlinewidth": 0,
            "ticks": ""
           }
          },
          "colorscale": {
           "diverging": [
            [
             0,
             "#8e0152"
            ],
            [
             0.1,
             "#c51b7d"
            ],
            [
             0.2,
             "#de77ae"
            ],
            [
             0.3,
             "#f1b6da"
            ],
            [
             0.4,
             "#fde0ef"
            ],
            [
             0.5,
             "#f7f7f7"
            ],
            [
             0.6,
             "#e6f5d0"
            ],
            [
             0.7,
             "#b8e186"
            ],
            [
             0.8,
             "#7fbc41"
            ],
            [
             0.9,
             "#4d9221"
            ],
            [
             1,
             "#276419"
            ]
           ],
           "sequential": [
            [
             0,
             "#0d0887"
            ],
            [
             0.1111111111111111,
             "#46039f"
            ],
            [
             0.2222222222222222,
             "#7201a8"
            ],
            [
             0.3333333333333333,
             "#9c179e"
            ],
            [
             0.4444444444444444,
             "#bd3786"
            ],
            [
             0.5555555555555556,
             "#d8576b"
            ],
            [
             0.6666666666666666,
             "#ed7953"
            ],
            [
             0.7777777777777778,
             "#fb9f3a"
            ],
            [
             0.8888888888888888,
             "#fdca26"
            ],
            [
             1,
             "#f0f921"
            ]
           ],
           "sequentialminus": [
            [
             0,
             "#0d0887"
            ],
            [
             0.1111111111111111,
             "#46039f"
            ],
            [
             0.2222222222222222,
             "#7201a8"
            ],
            [
             0.3333333333333333,
             "#9c179e"
            ],
            [
             0.4444444444444444,
             "#bd3786"
            ],
            [
             0.5555555555555556,
             "#d8576b"
            ],
            [
             0.6666666666666666,
             "#ed7953"
            ],
            [
             0.7777777777777778,
             "#fb9f3a"
            ],
            [
             0.8888888888888888,
             "#fdca26"
            ],
            [
             1,
             "#f0f921"
            ]
           ]
          },
          "colorway": [
           "#636efa",
           "#EF553B",
           "#00cc96",
           "#ab63fa",
           "#FFA15A",
           "#19d3f3",
           "#FF6692",
           "#B6E880",
           "#FF97FF",
           "#FECB52"
          ],
          "font": {
           "color": "#2a3f5f"
          },
          "geo": {
           "bgcolor": "white",
           "lakecolor": "white",
           "landcolor": "#E5ECF6",
           "showlakes": true,
           "showland": true,
           "subunitcolor": "white"
          },
          "hoverlabel": {
           "align": "left"
          },
          "hovermode": "closest",
          "mapbox": {
           "style": "light"
          },
          "paper_bgcolor": "white",
          "plot_bgcolor": "#E5ECF6",
          "polar": {
           "angularaxis": {
            "gridcolor": "white",
            "linecolor": "white",
            "ticks": ""
           },
           "bgcolor": "#E5ECF6",
           "radialaxis": {
            "gridcolor": "white",
            "linecolor": "white",
            "ticks": ""
           }
          },
          "scene": {
           "xaxis": {
            "backgroundcolor": "#E5ECF6",
            "gridcolor": "white",
            "gridwidth": 2,
            "linecolor": "white",
            "showbackground": true,
            "ticks": "",
            "zerolinecolor": "white"
           },
           "yaxis": {
            "backgroundcolor": "#E5ECF6",
            "gridcolor": "white",
            "gridwidth": 2,
            "linecolor": "white",
            "showbackground": true,
            "ticks": "",
            "zerolinecolor": "white"
           },
           "zaxis": {
            "backgroundcolor": "#E5ECF6",
            "gridcolor": "white",
            "gridwidth": 2,
            "linecolor": "white",
            "showbackground": true,
            "ticks": "",
            "zerolinecolor": "white"
           }
          },
          "shapedefaults": {
           "line": {
            "color": "#2a3f5f"
           }
          },
          "ternary": {
           "aaxis": {
            "gridcolor": "white",
            "linecolor": "white",
            "ticks": ""
           },
           "baxis": {
            "gridcolor": "white",
            "linecolor": "white",
            "ticks": ""
           },
           "bgcolor": "#E5ECF6",
           "caxis": {
            "gridcolor": "white",
            "linecolor": "white",
            "ticks": ""
           }
          },
          "title": {
           "x": 0.05
          },
          "xaxis": {
           "automargin": true,
           "gridcolor": "white",
           "linecolor": "white",
           "ticks": "",
           "title": {
            "standoff": 15
           },
           "zerolinecolor": "white",
           "zerolinewidth": 2
          },
          "yaxis": {
           "automargin": true,
           "gridcolor": "white",
           "linecolor": "white",
           "ticks": "",
           "title": {
            "standoff": 15
           },
           "zerolinecolor": "white",
           "zerolinewidth": 2
          }
         }
        },
        "xaxis": {
         "anchor": "y",
         "autorange": true,
         "domain": [
          0,
          1
         ],
         "range": [
          "2020-11-08 13:30",
          "2020-11-12 17:30"
         ],
         "tickangle": -90,
         "title": {
          "text": "interval"
         },
         "type": "date"
        },
        "yaxis": {
         "anchor": "x",
         "autorange": true,
         "domain": [
          0,
          1
         ],
         "range": [
          0,
          50.526315789473685
         ],
         "title": {
          "text": "count"
         },
         "type": "linear"
        }
       }
      },
      "image/png": "[encoded data removed]",
      "text/html": [
       "<div>                            <div id=\"968bb4c0-3d66-48c6-b95f-29e9e10f1ea0\" class=\"plotly-graph-div\" style=\"height:525px; width:100%;\"></div>            <script type=\"text/javascript\">                require([\"plotly\"], function(Plotly) {                    window.PLOTLYENV=window.PLOTLYENV || {};                                    if (document.getElementById(\"968bb4c0-3d66-48c6-b95f-29e9e10f1ea0\")) {                    Plotly.newPlot(                        \"968bb4c0-3d66-48c6-b95f-29e9e10f1ea0\",                        [{\"alignmentgroup\": \"True\", \"hovertemplate\": \"interval=%{x}<br>count=%{text}<extra></extra>\", \"legendgroup\": \"\", \"marker\": {\"color\": \"#636efa\"}, \"name\": \"\", \"offsetgroup\": \"\", \"orientation\": \"v\", \"showlegend\": false, \"text\": [12.0, 22.0, 30.0, 35.0, 32.0, 42.0, 40.0, 28.0, 19.0, 6.0, 8.0, 11.0, 7.0, 3.0, 5.0, 5.0, 3.0, 4.0, 8.0, 9.0, 9.0, 24.0, 24.0, 30.0, 41.0, 22.0, 26.0, 30.0, 31.0, 40.0, 25.0, 27.0, 28.0, 35.0, 11.0, 6.0, 3.0, 3.0, 7.0, 15.0, 10.0, 12.0, 10.0, 20.0, 19.0, 23.0, 19.0, 29.0, 32.0, 31.0, 25.0, 28.0, 48.0, 37.0, 26.0, 19.0, 17.0, 13.0, 3.0, 5.0, 6.0, 5.0, 7.0, 4.0, 5.0, 11.0, 8.0, 7.0, 10.0, 22.0, 37.0, 25.0, 23.0, 27.0, 34.0, 35.0, 28.0, 28.0, 22.0, 24.0, 15.0, 5.0, 6.0, 5.0, 4.0, 4.0, 3.0, 3.0, 3.0, 3.0, 7.0, 12.0, 12.0, 10.0, 8.0, 10.0, 10.0, 4.0, 8.0, 8.0], \"textposition\": \"auto\", \"type\": \"bar\", \"x\": [\"2020-11-12T17:00:00.000Z\", \"2020-11-12T16:00:00.000Z\", \"2020-11-12T15:00:00.000Z\", \"2020-11-12T14:00:00.000Z\", \"2020-11-12T13:00:00.000Z\", \"2020-11-12T12:00:00.000Z\", \"2020-11-12T11:00:00.000Z\", \"2020-11-12T10:00:00.000Z\", \"2020-11-12T09:00:00.000Z\", \"2020-11-12T08:00:00.000Z\", \"2020-11-12T07:00:00.000Z\", \"2020-11-12T06:00:00.000Z\", \"2020-11-12T05:00:00.000Z\", \"2020-11-12T04:00:00.000Z\", \"2020-11-12T03:00:00.000Z\", \"2020-11-12T02:00:00.000Z\", \"2020-11-12T01:00:00.000Z\", \"2020-11-12T00:00:00.000Z\", \"2020-11-11T23:00:00.000Z\", \"2020-11-11T22:00:00.000Z\", \"2020-11-11T21:00:00.000Z\", \"2020-11-11T20:00:00.000Z\", \"2020-11-11T19:00:00.000Z\", \"2020-11-11T18:00:00.000Z\", \"2020-11-11T17:00:00.000Z\", \"2020-11-11T16:00:00.000Z\", \"2020-11-11T15:00:00.000Z\", \"2020-11-11T14:00:00.000Z\", \"2020-11-11T13:00:00.000Z\", \"2020-11-11T12:00:00.000Z\", \"2020-11-11T11:00:00.000Z\", \"2020-11-11T10:00:00.000Z\", \"2020-11-11T09:00:00.000Z\", \"2020-11-11T08:00:00.000Z\", \"2020-11-11T07:00:00.000Z\", \"2020-11-11T06:00:00.000Z\", \"2020-11-11T05:00:00.000Z\", \"2020-11-11T04:00:00.000Z\", \"2020-11-11T03:00:00.000Z\", \"2020-11-11T02:00:00.000Z\", \"2020-11-11T01:00:00.000Z\", \"2020-11-11T00:00:00.000Z\", \"2020-11-10T23:00:00.000Z\", \"2020-11-10T22:00:00.000Z\", \"2020-11-10T21:00:00.000Z\", \"2020-11-10T20:00:00.000Z\", \"2020-11-10T19:00:00.000Z\", \"2020-11-10T18:00:00.000Z\", \"2020-11-10T17:00:00.000Z\", \"2020-11-10T16:00:00.000Z\", \"2020-11-10T15:00:00.000Z\", \"2020-11-10T14:00:00.000Z\", \"2020-11-10T13:00:00.000Z\", \"2020-11-10T12:00:00.000Z\", \"2020-11-10T11:00:00.000Z\", \"2020-11-10T10:00:00.000Z\", \"2020-11-10T09:00:00.000Z\", \"2020-11-10T08:00:00.000Z\", \"2020-11-10T07:00:00.000Z\", \"2020-11-10T06:00:00.000Z\", \"2020-11-10T05:00:00.000Z\", \"2020-11-10T04:00:00.000Z\", \"2020-11-10T03:00:00.000Z\", \"2020-11-10T02:00:00.000Z\", \"2020-11-10T01:00:00.000Z\", \"2020-11-10T00:00:00.000Z\", \"2020-11-09T23:00:00.000Z\", \"2020-11-09T22:00:00.000Z\", \"2020-11-09T21:00:00.000Z\", \"2020-11-09T20:00:00.000Z\", \"2020-11-09T19:00:00.000Z\", \"2020-11-09T18:00:00.000Z\", \"2020-11-09T17:00:00.000Z\", \"2020-11-09T16:00:00.000Z\", \"2020-11-09T15:00:00.000Z\", \"2020-11-09T14:00:00.000Z\", \"2020-11-09T13:00:00.000Z\", \"2020-11-09T12:00:00.000Z\", \"2020-11-09T11:00:00.000Z\", \"2020-11-09T10:00:00.000Z\", \"2020-11-09T09:00:00.000Z\", \"2020-11-09T08:00:00.000Z\", \"2020-11-09T07:00:00.000Z\", \"2020-11-09T06:00:00.000Z\", \"2020-11-09T05:00:00.000Z\", \"2020-11-09T04:00:00.000Z\", \"2020-11-09T03:00:00.000Z\", \"2020-11-09T02:00:00.000Z\", \"2020-11-09T01:00:00.000Z\", \"2020-11-09T00:00:00.000Z\", \"2020-11-08T23:00:00.000Z\", \"2020-11-08T22:00:00.000Z\", \"2020-11-08T21:00:00.000Z\", \"2020-11-08T20:00:00.000Z\", \"2020-11-08T19:00:00.000Z\", \"2020-11-08T18:00:00.000Z\", \"2020-11-08T17:00:00.000Z\", \"2020-11-08T16:00:00.000Z\", \"2020-11-08T15:00:00.000Z\", \"2020-11-08T14:00:00.000Z\"], \"xaxis\": \"x\", \"y\": [12, 22, 30, 35, 32, 42, 40, 28, 19, 6, 8, 11, 7, 3, 5, 5, 3, 4, 8, 9, 9, 24, 24, 30, 41, 22, 26, 30, 31, 40, 25, 27, 28, 35, 11, 6, 3, 3, 7, 15, 10, 12, 10, 20, 19, 23, 19, 29, 32, 31, 25, 28, 48, 37, 26, 19, 17, 13, 3, 5, 6, 5, 7, 4, 5, 11, 8, 7, 10, 22, 37, 25, 23, 27, 34, 35, 28, 28, 22, 24, 15, 5, 6, 5, 4, 4, 3, 3, 3, 3, 7, 12, 12, 10, 8, 10, 10, 4, 8, 8], \"yaxis\": \"y\"}],                        {\"barmode\": \"relative\", \"legend\": {\"tracegroupgap\": 0}, \"margin\": {\"t\": 60}, \"template\": {\"data\": {\"bar\": [{\"error_x\": {\"color\": \"#2a3f5f\"}, \"error_y\": {\"color\": \"#2a3f5f\"}, \"marker\": {\"line\": {\"color\": \"#E5ECF6\", \"width\": 0.5}}, \"type\": \"bar\"}], \"barpolar\": [{\"marker\": {\"line\": {\"color\": \"#E5ECF6\", \"width\": 0.5}}, \"type\": \"barpolar\"}], \"carpet\": [{\"aaxis\": {\"endlinecolor\": \"#2a3f5f\", \"gridcolor\": \"white\", \"linecolor\": \"white\", \"minorgridcolor\": \"white\", \"startlinecolor\": \"#2a3f5f\"}, \"baxis\": {\"endlinecolor\": \"#2a3f5f\", \"gridcolor\": \"white\", \"linecolor\": \"white\", \"minorgridcolor\": \"white\", \"startlinecolor\": \"#2a3f5f\"}, \"type\": \"carpet\"}], \"choropleth\": [{\"colorbar\": {\"outlinewidth\": 0, \"ticks\": \"\"}, \"type\": \"choropleth\"}], \"contour\": [{\"colorbar\": {\"outlinewidth\": 0, \"ticks\": \"\"}, \"colorscale\": [[0.0, \"#0d0887\"], [0.1111111111111111, \"#46039f\"], [0.2222222222222222, \"#7201a8\"], [0.3333333333333333, \"#9c179e\"], [0.4444444444444444, \"#bd3786\"], [0.5555555555555556, \"#d8576b\"], [0.6666666666666666, \"#ed7953\"], [0.7777777777777778, \"#fb9f3a\"], [0.8888888888888888, \"#fdca26\"], [1.0, \"#f0f921\"]], \"type\": \"contour\"}], \"contourcarpet\": [{\"colorbar\": {\"outlinewidth\": 0, \"ticks\": \"\"}, \"type\": \"contourcarpet\"}], \"heatmap\": [{\"colorbar\": {\"outlinewidth\": 0, \"ticks\": \"\"}, \"colorscale\": [[0.0, \"#0d0887\"], [0.1111111111111111, \"#46039f\"], [0.2222222222222222, \"#7201a8\"], [0.3333333333333333, \"#9c179e\"], [0.4444444444444444, \"#bd3786\"], [0.5555555555555556, \"#d8576b\"], [0.6666666666666666, \"#ed7953\"], [0.7777777777777778, \"#fb9f3a\"], [0.8888888888888888, \"#fdca26\"], [1.0, \"#f0f921\"]], \"type\": \"heatmap\"}], \"heatmapgl\": [{\"colorbar\": {\"outlinewidth\": 0, \"ticks\": \"\"}, \"colorscale\": [[0.0, \"#0d0887\"], [0.1111111111111111, \"#46039f\"], [0.2222222222222222, \"#7201a8\"], [0.3333333333333333, \"#9c179e\"], [0.4444444444444444, \"#bd3786\"], [0.5555555555555556, \"#d8576b\"], [0.6666666666666666, \"#ed7953\"], [0.7777777777777778, \"#fb9f3a\"], [0.8888888888888888, \"#fdca26\"], [1.0, \"#f0f921\"]], \"type\": \"heatmapgl\"}], \"histogram\": [{\"marker\": {\"colorbar\": {\"outlinewidth\": 0, \"ticks\": \"\"}}, \"type\": \"histogram\"}], \"histogram2d\": [{\"colorbar\": {\"outlinewidth\": 0, \"ticks\": \"\"}, \"colorscale\": [[0.0, \"#0d0887\"], [0.1111111111111111, \"#46039f\"], [0.2222222222222222, \"#7201a8\"], [0.3333333333333333, \"#9c179e\"], [0.4444444444444444, \"#bd3786\"], [0.5555555555555556, \"#d8576b\"], [0.6666666666666666, \"#ed7953\"], [0.7777777777777778, \"#fb9f3a\"], [0.8888888888888888, \"#fdca26\"], [1.0, \"#f0f921\"]], \"type\": \"histogram2d\"}], \"histogram2dcontour\": [{\"colorbar\": {\"outlinewidth\": 0, \"ticks\": \"\"}, \"colorscale\": [[0.0, \"#0d0887\"], [0.1111111111111111, \"#46039f\"], [0.2222222222222222, \"#7201a8\"], [0.3333333333333333, \"#9c179e\"], [0.4444444444444444, \"#bd3786\"], [0.5555555555555556, \"#d8576b\"], [0.6666666666666666, \"#ed7953\"], [0.7777777777777778, \"#fb9f3a\"], [0.8888888888888888, \"#fdca26\"], [1.0, \"#f0f921\"]], \"type\": \"histogram2dcontour\"}], \"mesh3d\": [{\"colorbar\": {\"outlinewidth\": 0, \"ticks\": \"\"}, \"type\": \"mesh3d\"}], \"parcoords\": [{\"line\": {\"colorbar\": {\"outlinewidth\": 0, \"ticks\": \"\"}}, \"type\": \"parcoords\"}], \"pie\": [{\"automargin\": true, \"type\": \"pie\"}], \"scatter\": [{\"marker\": {\"colorbar\": {\"outlinewidth\": 0, \"ticks\": \"\"}}, \"type\": \"scatter\"}], \"scatter3d\": [{\"line\": {\"colorbar\": {\"outlinewidth\": 0, \"ticks\": \"\"}}, \"marker\": {\"colorbar\": {\"outlinewidth\": 0, \"ticks\": \"\"}}, \"type\": \"scatter3d\"}], \"scattercarpet\": [{\"marker\": {\"colorbar\": {\"outlinewidth\": 0, \"ticks\": \"\"}}, \"type\": \"scattercarpet\"}], \"scattergeo\": [{\"marker\": {\"colorbar\": {\"outlinewidth\": 0, \"ticks\": \"\"}}, \"type\": \"scattergeo\"}], \"scattergl\": [{\"marker\": {\"colorbar\": {\"outlinewidth\": 0, \"ticks\": \"\"}}, \"type\": \"scattergl\"}], \"scattermapbox\": [{\"marker\": {\"colorbar\": {\"outlinewidth\": 0, \"ticks\": \"\"}}, \"type\": \"scattermapbox\"}], \"scatterpolar\": [{\"marker\": {\"colorbar\": {\"outlinewidth\": 0, \"ticks\": \"\"}}, \"type\": \"scatterpolar\"}], \"scatterpolargl\": [{\"marker\": {\"colorbar\": {\"outlinewidth\": 0, \"ticks\": \"\"}}, \"type\": \"scatterpolargl\"}], \"scatterternary\": [{\"marker\": {\"colorbar\": {\"outlinewidth\": 0, \"ticks\": \"\"}}, \"type\": \"scatterternary\"}], \"surface\": [{\"colorbar\": {\"outlinewidth\": 0, \"ticks\": \"\"}, \"colorscale\": [[0.0, \"#0d0887\"], [0.1111111111111111, \"#46039f\"], [0.2222222222222222, \"#7201a8\"], [0.3333333333333333, \"#9c179e\"], [0.4444444444444444, \"#bd3786\"], [0.5555555555555556, \"#d8576b\"], [0.6666666666666666, \"#ed7953\"], [0.7777777777777778, \"#fb9f3a\"], [0.8888888888888888, \"#fdca26\"], [1.0, \"#f0f921\"]], \"type\": \"surface\"}], \"table\": [{\"cells\": {\"fill\": {\"color\": \"#EBF0F8\"}, \"line\": {\"color\": \"white\"}}, \"header\": {\"fill\": {\"color\": \"#C8D4E3\"}, \"line\": {\"color\": \"white\"}}, \"type\": \"table\"}]}, \"layout\": {\"annotationdefaults\": {\"arrowcolor\": \"#2a3f5f\", \"arrowhead\": 0, \"arrowwidth\": 1}, \"coloraxis\": {\"colorbar\": {\"outlinewidth\": 0, \"ticks\": \"\"}}, \"colorscale\": {\"diverging\": [[0, \"#8e0152\"], [0.1, \"#c51b7d\"], [0.2, \"#de77ae\"], [0.3, \"#f1b6da\"], [0.4, \"#fde0ef\"], [0.5, \"#f7f7f7\"], [0.6, \"#e6f5d0\"], [0.7, \"#b8e186\"], [0.8, \"#7fbc41\"], [0.9, \"#4d9221\"], [1, \"#276419\"]], \"sequential\": [[0.0, \"#0d0887\"], [0.1111111111111111, \"#46039f\"], [0.2222222222222222, \"#7201a8\"], [0.3333333333333333, \"#9c179e\"], [0.4444444444444444, \"#bd3786\"], [0.5555555555555556, \"#d8576b\"], [0.6666666666666666, \"#ed7953\"], [0.7777777777777778, \"#fb9f3a\"], [0.8888888888888888, \"#fdca26\"], [1.0, \"#f0f921\"]], \"sequentialminus\": [[0.0, \"#0d0887\"], [0.1111111111111111, \"#46039f\"], [0.2222222222222222, \"#7201a8\"], [0.3333333333333333, \"#9c179e\"], [0.4444444444444444, \"#bd3786\"], [0.5555555555555556, \"#d8576b\"], [0.6666666666666666, \"#ed7953\"], [0.7777777777777778, \"#fb9f3a\"], [0.8888888888888888, \"#fdca26\"], [1.0, \"#f0f921\"]]}, \"colorway\": [\"#636efa\", \"#EF553B\", \"#00cc96\", \"#ab63fa\", \"#FFA15A\", \"#19d3f3\", \"#FF6692\", \"#B6E880\", \"#FF97FF\", \"#FECB52\"], \"font\": {\"color\": \"#2a3f5f\"}, \"geo\": {\"bgcolor\": \"white\", \"lakecolor\": \"white\", \"landcolor\": \"#E5ECF6\", \"showlakes\": true, \"showland\": true, \"subunitcolor\": \"white\"}, \"hoverlabel\": {\"align\": \"left\"}, \"hovermode\": \"closest\", \"mapbox\": {\"style\": \"light\"}, \"paper_bgcolor\": \"white\", \"plot_bgcolor\": \"#E5ECF6\", \"polar\": {\"angularaxis\": {\"gridcolor\": \"white\", \"linecolor\": \"white\", \"ticks\": \"\"}, \"bgcolor\": \"#E5ECF6\", \"radialaxis\": {\"gridcolor\": \"white\", \"linecolor\": \"white\", \"ticks\": \"\"}}, \"scene\": {\"xaxis\": {\"backgroundcolor\": \"#E5ECF6\", \"gridcolor\": \"white\", \"gridwidth\": 2, \"linecolor\": \"white\", \"showbackground\": true, \"ticks\": \"\", \"zerolinecolor\": \"white\"}, \"yaxis\": {\"backgroundcolor\": \"#E5ECF6\", \"gridcolor\": \"white\", \"gridwidth\": 2, \"linecolor\": \"white\", \"showbackground\": true, \"ticks\": \"\", \"zerolinecolor\": \"white\"}, \"zaxis\": {\"backgroundcolor\": \"#E5ECF6\", \"gridcolor\": \"white\", \"gridwidth\": 2, \"linecolor\": \"white\", \"showbackground\": true, \"ticks\": \"\", \"zerolinecolor\": \"white\"}}, \"shapedefaults\": {\"line\": {\"color\": \"#2a3f5f\"}}, \"ternary\": {\"aaxis\": {\"gridcolor\": \"white\", \"linecolor\": \"white\", \"ticks\": \"\"}, \"baxis\": {\"gridcolor\": \"white\", \"linecolor\": \"white\", \"ticks\": \"\"}, \"bgcolor\": \"#E5ECF6\", \"caxis\": {\"gridcolor\": \"white\", \"linecolor\": \"white\", \"ticks\": \"\"}}, \"title\": {\"x\": 0.05}, \"xaxis\": {\"automargin\": true, \"gridcolor\": \"white\", \"linecolor\": \"white\", \"ticks\": \"\", \"title\": {\"standoff\": 15}, \"zerolinecolor\": \"white\", \"zerolinewidth\": 2}, \"yaxis\": {\"automargin\": true, \"gridcolor\": \"white\", \"linecolor\": \"white\", \"ticks\": \"\", \"title\": {\"standoff\": 15}, \"zerolinecolor\": \"white\", \"zerolinewidth\": 2}}}, \"xaxis\": {\"anchor\": \"y\", \"domain\": [0.0, 1.0], \"tickangle\": -90, \"title\": {\"text\": \"interval\"}}, \"yaxis\": {\"anchor\": \"x\", \"domain\": [0.0, 1.0], \"title\": {\"text\": \"count\"}}},                        {\"responsive\": true}                    ).then(function(){\n",
       "                            \n",
       "var gd = document.getElementById('968bb4c0-3d66-48c6-b95f-29e9e10f1ea0');\n",
       "var x = new MutationObserver(function (mutations, observer) {{\n",
       "        var display = window.getComputedStyle(gd).display;\n",
       "        if (!display || display === 'none') {{\n",
       "            console.log([gd, 'removed!']);\n",
       "            Plotly.purge(gd);\n",
       "            observer.disconnect();\n",
       "        }}\n",
       "}});\n",
       "\n",
       "// Listen for the removal of the full notebook cells\n",
       "var notebookContainer = gd.closest('#notebook-container');\n",
       "if (notebookContainer) {{\n",
       "    x.observe(notebookContainer, {childList: true});\n",
       "}}\n",
       "\n",
       "// Listen for the clearing of the current output cell\n",
       "var outputEl = gd.closest('.output');\n",
       "if (outputEl) {{\n",
       "    x.observe(outputEl, {childList: true});\n",
       "}}\n",
       "\n",
       "                        })                };                });            </script>        </div>"
      ]
     },
     "metadata": {},
     "output_type": "display_data"
    }
   ],
   "source": [
    "fig = px.bar(dataframe, x='interval', y='count', text='count')\n",
    "fig.update_layout(xaxis_tickangle=-90)\n",
    "display(fig)"
   ]
  },
  {
   "cell_type": "code",
   "execution_count": 64,
   "metadata": {},
   "outputs": [
    {
     "data": {
      "application/vnd.jupyter.widget-view+json": {
       "model_id": "753e3970a6a84bebab2327f22adc4585",
       "version_major": 2,
       "version_minor": 0
      },
      "text/plain": [
       "FigureWidget({\n",
       "    'data': [{'textposition': 'auto', 'type': 'bar', 'uid': 'afc713bd-ea20-44a1-bf0b-89e19c0f5d…"
      ]
     },
     "metadata": {},
     "output_type": "display_data"
    }
   ],
   "source": [
    "fw = go.FigureWidget()\n",
    "\n",
    "# fw = fig\n",
    "fw.add_bar(textposition='auto')\n",
    "fw.layout.title = 'Request'\n",
    "\n",
    "display(fw)\n",
    "# update_plot_several_times(fw,sql, 10,2)\n",
    "fw.layout.title = 'Done'\n"
   ]
  },
  {
   "cell_type": "code",
   "execution_count": null,
   "metadata": {},
   "outputs": [],
   "source": []
  }
 ],
 "metadata": {
  "kernelspec": {
   "display_name": "Python 3",
   "language": "python",
   "name": "python3"
  },
  "language_info": {
   "codemirror_mode": {
    "name": "ipython",
    "version": 3
   },
   "file_extension": ".py",
   "mimetype": "text/x-python",
   "name": "python",
   "nbconvert_exporter": "python",
   "pygments_lexer": "ipython3",
   "version": "3.8.6"
  }
 },
 "nbformat": 4,
 "nbformat_minor": 4
}
