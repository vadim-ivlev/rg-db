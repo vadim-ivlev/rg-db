{
 "cells": [
  {
   "cell_type": "code",
   "execution_count": 8,
   "metadata": {},
   "outputs": [],
   "source": [
    "import pandas as pd\n",
    "import psycopg2 as pg\n",
    "import sys\n",
    "import os\n",
    "import ipywidgets as w\n",
    "from elasticsearch import Elasticsearch\n",
    "import elasticsearch.helpers\n",
    "from pandasticsearch import Select\n",
    "import pandasticsearch as pds\n",
    "con = pg.connect(os.getenv('RGDSN'))\n",
    "es_con = Elasticsearch('http://es01:9200')"
   ]
  },
  {
   "cell_type": "code",
   "execution_count": 25,
   "metadata": {
    "jupyter": {
     "source_hidden": true
    }
   },
   "outputs": [
    {
     "data": {
      "text/html": [
       "<style>\n",
       ".padded {\n",
       "    /*width: 100px;*/\n",
       "    text-align: right;\n",
       "    padding: 0 10px 0 10px;\n",
       "}\n",
       ".big {\n",
       "    font-size: 2em;\n",
       "    font-weight:bold;\n",
       "    height: 5em;\n",
       "}\n",
       "</style>\n"
      ],
      "text/plain": [
       "<IPython.core.display.HTML object>"
      ]
     },
     "metadata": {},
     "output_type": "display_data"
    }
   ],
   "source": [
    "%%html\n",
    "<style>\n",
    ".padded {\n",
    "    /*width: 100px;*/\n",
    "    text-align: right;\n",
    "    padding: 0 10px 0 10px;\n",
    "}\n",
    ".big {\n",
    "    font-size: 2em;\n",
    "    font-weight:bold;\n",
    "    height: 5em;\n",
    "}\n",
    "</style>"
   ]
  },
  {
   "cell_type": "code",
   "execution_count": 21,
   "metadata": {
    "jupyter": {
     "source_hidden": true
    }
   },
   "outputs": [
    {
     "data": {
      "application/vnd.jupyter.widget-view+json": {
       "model_id": "302c308b2fd245768f09572ddaadc591",
       "version_major": 2,
       "version_minor": 0
      },
      "text/plain": [
       "HBox(children=(VBox(children=(Label(value='0', _dom_classes=('big',)), Label(value='rubrics')), layout=Layout(…"
      ]
     },
     "metadata": {},
     "output_type": "display_data"
    }
   ],
   "source": [
    "r_label = w.Label('0')\n",
    "r_label.add_class('big')\n",
    "a_label = w.Label('0')\n",
    "a_label.add_class('big')\n",
    "ro_label = w.Label('0')\n",
    "ro_label.add_class('big')\n",
    "hb = w.HBox([\n",
    "    w.VBox([r_label,w.Label('rubrics')], layout=w.Layout(border='10px solid transparent')),\n",
    "    w.VBox([ro_label,w.Label('rubrics_objects')]),\n",
    "    w.VBox([a_label,w.Label('articles')]),\n",
    "])\n",
    "hb\n",
    "# rubrics_label"
   ]
  },
  {
   "cell_type": "code",
   "execution_count": 24,
   "metadata": {
    "collapsed": true,
    "jupyter": {
     "outputs_hidden": true,
     "source_hidden": true
    }
   },
   "outputs": [
    {
     "data": {
      "text/html": [
       "<div>\n",
       "<style scoped>\n",
       "    .dataframe tbody tr th:only-of-type {\n",
       "        vertical-align: middle;\n",
       "    }\n",
       "\n",
       "    .dataframe tbody tr th {\n",
       "        vertical-align: top;\n",
       "    }\n",
       "\n",
       "    .dataframe thead th {\n",
       "        text-align: right;\n",
       "    }\n",
       "</style>\n",
       "<table border=\"1\" class=\"dataframe\">\n",
       "  <thead>\n",
       "    <tr style=\"text-align: right;\">\n",
       "      <th></th>\n",
       "      <th>count</th>\n",
       "    </tr>\n",
       "  </thead>\n",
       "  <tbody>\n",
       "    <tr>\n",
       "      <th>PG: rubrics</th>\n",
       "      <td>1151</td>\n",
       "    </tr>\n",
       "    <tr>\n",
       "      <th>PG: rubrics_objects</th>\n",
       "      <td>3117129</td>\n",
       "    </tr>\n",
       "    <tr>\n",
       "      <th>PG: articles</th>\n",
       "      <td>1226058</td>\n",
       "    </tr>\n",
       "    <tr>\n",
       "      <th>articles: migration_status = 'error'</th>\n",
       "      <td>3</td>\n",
       "    </tr>\n",
       "    <tr>\n",
       "      <th>articles: process_status   = 'error'</th>\n",
       "      <td>0</td>\n",
       "    </tr>\n",
       "    <tr>\n",
       "      <th>articles: process_status IS NULL</th>\n",
       "      <td>3</td>\n",
       "    </tr>\n",
       "    <tr>\n",
       "      <th>articles: process_status   = 'success'</th>\n",
       "      <td>1226055</td>\n",
       "    </tr>\n",
       "    <tr>\n",
       "      <th>articles: elastic_status   = 'indexed'</th>\n",
       "      <td>1226055</td>\n",
       "    </tr>\n",
       "    <tr>\n",
       "      <th>ES: articles</th>\n",
       "      <td>1226055</td>\n",
       "    </tr>\n",
       "  </tbody>\n",
       "</table>\n",
       "</div>"
      ],
      "text/plain": [
       "                                          count\n",
       "PG: rubrics                                1151\n",
       "PG: rubrics_objects                     3117129\n",
       "PG: articles                            1226058\n",
       "articles: migration_status = 'error'          3\n",
       "articles: process_status   = 'error'          0\n",
       "articles: process_status IS NULL              3\n",
       "articles: process_status   = 'success'  1226055\n",
       "articles: elastic_status   = 'indexed'  1226055\n",
       "ES: articles                            1226055"
      ]
     },
     "execution_count": 24,
     "metadata": {},
     "output_type": "execute_result"
    }
   ],
   "source": [
    "def get_counts():\n",
    "    \"\"\" Возвращает число записей в таблицах Postgress и индексах Elastic\"\"\"\n",
    "    counts = {\n",
    "        \"PG: rubrics\" : pd.read_sql_query('SELECT count(1) FROM rubrics', con)['count'][0],\n",
    "        \"PG: rubrics_objects\" : pd.read_sql_query('SELECT count(1) FROM rubrics_objects', con)['count'][0],\n",
    "        \"PG: articles\" : pd.read_sql_query('SELECT count(1) FROM articles', con)['count'][0],\n",
    "        \"articles: migration_status = 'error'\" : pd.read_sql_query(\"SELECT count(1) FROM articles WHERE migration_status = 'error'\", con)['count'][0],\n",
    "        \"articles: process_status   = 'error'\" : pd.read_sql_query(\"SELECT count(1) FROM articles WHERE process_status = 'error'\", con)['count'][0],\n",
    "        \"articles: process_status IS NULL    \" : pd.read_sql_query(\"SELECT count(1) FROM articles WHERE process_status IS NULL\", con)['count'][0],\n",
    "        \"articles: process_status   = 'success'\" : pd.read_sql_query(\"SELECT count(1) FROM articles WHERE process_status = 'success'\", con)['count'][0],\n",
    "        \"articles: elastic_status   = 'indexed'\" : pd.read_sql_query(\"SELECT count(1) FROM articles WHERE elastic_status = 'indexed'\", con)['count'][0],\n",
    "        \"ES: articles\" : es_con.count(index='articles')['count'],\n",
    "    }\n",
    "    return counts\n",
    "\n",
    "counts = get_counts()\n",
    "pd.DataFrame.from_dict(counts,orient='index', columns=['count'])"
   ]
  },
  {
   "cell_type": "code",
   "execution_count": null,
   "metadata": {},
   "outputs": [],
   "source": [
    "df = pd.read_sql('SELECT obj_id, lemmatized_text FROM articles limit 20000', con)\n",
    "# display(df)\n",
    "mem = df.memory_usage(deep=True).sum()/(1024*1024)\n",
    "print(f'mem={mem:.2f} Gb')\n",
    "# df.loc[0:2,['title','id']]"
   ]
  },
  {
   "cell_type": "code",
   "execution_count": 5,
   "metadata": {},
   "outputs": [
    {
     "data": {
      "text/plain": [
       "5228.256238937378"
      ]
     },
     "execution_count": 5,
     "metadata": {},
     "output_type": "execute_result"
    }
   ],
   "source": [
    "sys.getsizeof(df)/1024/1024"
   ]
  },
  {
   "cell_type": "code",
   "execution_count": 4,
   "metadata": {},
   "outputs": [
    {
     "name": "stdout",
     "output_type": "stream",
     "text": [
      "1151\n"
     ]
    }
   ],
   "source": [
    "try:\n",
    "    cur = con.cursor()\n",
    "    cur.execute('select count(*) from rubrics limit 10')\n",
    "    recs = cur.fetchall()\n",
    "    print(recs[0][0])\n",
    "except Exception as ex:\n",
    "    print(ex)\n",
    "finally:\n",
    "    if cur: cur.close()\n",
    "#     if con: con.close()"
   ]
  },
  {
   "cell_type": "code",
   "execution_count": 68,
   "metadata": {},
   "outputs": [],
   "source": [
    "a_label.value = '10'"
   ]
  },
  {
   "cell_type": "code",
   "execution_count": 7,
   "metadata": {},
   "outputs": [
    {
     "ename": "RequestError",
     "evalue": "RequestError(400, 'parsing_exception', 'Failed to parse')",
     "output_type": "error",
     "traceback": [
      "\u001b[0;31m---------------------------------------------------------------------------\u001b[0m",
      "\u001b[0;31mRequestError\u001b[0m                              Traceback (most recent call last)",
      "\u001b[0;32m<ipython-input-7-d73d3339330e>\u001b[0m in \u001b[0;36m<module>\u001b[0;34m\u001b[0m\n\u001b[1;32m      1\u001b[0m \u001b[0mes\u001b[0m \u001b[0;34m=\u001b[0m \u001b[0mElasticsearch\u001b[0m\u001b[0;34m(\u001b[0m\u001b[0;34m'http://es01:9200'\u001b[0m\u001b[0;34m)\u001b[0m\u001b[0;34m\u001b[0m\u001b[0;34m\u001b[0m\u001b[0m\n\u001b[0;32m----> 2\u001b[0;31m \u001b[0mes\u001b[0m\u001b[0;34m.\u001b[0m\u001b[0mcount\u001b[0m\u001b[0;34m(\u001b[0m\u001b[0;34m'rubrics'\u001b[0m\u001b[0;34m)\u001b[0m\u001b[0;34m\u001b[0m\u001b[0;34m\u001b[0m\u001b[0m\n\u001b[0m\u001b[1;32m      3\u001b[0m \u001b[0;31m# body={\"query\": {\"match_all\": {}}}\u001b[0m\u001b[0;34m\u001b[0m\u001b[0;34m\u001b[0m\u001b[0;34m\u001b[0m\u001b[0m\n\u001b[1;32m      4\u001b[0m \u001b[0;31m# body = {  \"size\" : 1000,  \"_source\" : [\"id\"]}\u001b[0m\u001b[0;34m\u001b[0m\u001b[0;34m\u001b[0m\u001b[0;34m\u001b[0m\u001b[0m\n\u001b[1;32m      5\u001b[0m \u001b[0;34m\u001b[0m\u001b[0m\n",
      "\u001b[0;32m/opt/conda/lib/python3.8/site-packages/elasticsearch/client/utils.py\u001b[0m in \u001b[0;36m_wrapped\u001b[0;34m(*args, **kwargs)\u001b[0m\n\u001b[1;32m    150\u001b[0m                 \u001b[0;32mif\u001b[0m \u001b[0mp\u001b[0m \u001b[0;32min\u001b[0m \u001b[0mkwargs\u001b[0m\u001b[0;34m:\u001b[0m\u001b[0;34m\u001b[0m\u001b[0;34m\u001b[0m\u001b[0m\n\u001b[1;32m    151\u001b[0m                     \u001b[0mparams\u001b[0m\u001b[0;34m[\u001b[0m\u001b[0mp\u001b[0m\u001b[0;34m]\u001b[0m \u001b[0;34m=\u001b[0m \u001b[0mkwargs\u001b[0m\u001b[0;34m.\u001b[0m\u001b[0mpop\u001b[0m\u001b[0;34m(\u001b[0m\u001b[0mp\u001b[0m\u001b[0;34m)\u001b[0m\u001b[0;34m\u001b[0m\u001b[0;34m\u001b[0m\u001b[0m\n\u001b[0;32m--> 152\u001b[0;31m             \u001b[0;32mreturn\u001b[0m \u001b[0mfunc\u001b[0m\u001b[0;34m(\u001b[0m\u001b[0;34m*\u001b[0m\u001b[0margs\u001b[0m\u001b[0;34m,\u001b[0m \u001b[0mparams\u001b[0m\u001b[0;34m=\u001b[0m\u001b[0mparams\u001b[0m\u001b[0;34m,\u001b[0m \u001b[0mheaders\u001b[0m\u001b[0;34m=\u001b[0m\u001b[0mheaders\u001b[0m\u001b[0;34m,\u001b[0m \u001b[0;34m**\u001b[0m\u001b[0mkwargs\u001b[0m\u001b[0;34m)\u001b[0m\u001b[0;34m\u001b[0m\u001b[0;34m\u001b[0m\u001b[0m\n\u001b[0m\u001b[1;32m    153\u001b[0m \u001b[0;34m\u001b[0m\u001b[0m\n\u001b[1;32m    154\u001b[0m         \u001b[0;32mreturn\u001b[0m \u001b[0m_wrapped\u001b[0m\u001b[0;34m\u001b[0m\u001b[0;34m\u001b[0m\u001b[0m\n",
      "\u001b[0;32m/opt/conda/lib/python3.8/site-packages/elasticsearch/client/__init__.py\u001b[0m in \u001b[0;36mcount\u001b[0;34m(self, body, index, doc_type, params, headers)\u001b[0m\n\u001b[1;32m    526\u001b[0m             \u001b[0mreaching\u001b[0m \u001b[0mwhich\u001b[0m \u001b[0mthe\u001b[0m \u001b[0mquery\u001b[0m \u001b[0mexecution\u001b[0m \u001b[0mwill\u001b[0m \u001b[0mterminate\u001b[0m \u001b[0mearly\u001b[0m\u001b[0;34m\u001b[0m\u001b[0;34m\u001b[0m\u001b[0m\n\u001b[1;32m    527\u001b[0m         \"\"\"\n\u001b[0;32m--> 528\u001b[0;31m         return self.transport.perform_request(\n\u001b[0m\u001b[1;32m    529\u001b[0m             \u001b[0;34m\"POST\"\u001b[0m\u001b[0;34m,\u001b[0m\u001b[0;34m\u001b[0m\u001b[0;34m\u001b[0m\u001b[0m\n\u001b[1;32m    530\u001b[0m             \u001b[0m_make_path\u001b[0m\u001b[0;34m(\u001b[0m\u001b[0mindex\u001b[0m\u001b[0;34m,\u001b[0m \u001b[0mdoc_type\u001b[0m\u001b[0;34m,\u001b[0m \u001b[0;34m\"_count\"\u001b[0m\u001b[0;34m)\u001b[0m\u001b[0;34m,\u001b[0m\u001b[0;34m\u001b[0m\u001b[0;34m\u001b[0m\u001b[0m\n",
      "\u001b[0;32m/opt/conda/lib/python3.8/site-packages/elasticsearch/transport.py\u001b[0m in \u001b[0;36mperform_request\u001b[0;34m(self, method, url, headers, params, body)\u001b[0m\n\u001b[1;32m    390\u001b[0m                         \u001b[0;32mraise\u001b[0m \u001b[0me\u001b[0m\u001b[0;34m\u001b[0m\u001b[0;34m\u001b[0m\u001b[0m\n\u001b[1;32m    391\u001b[0m                 \u001b[0;32melse\u001b[0m\u001b[0;34m:\u001b[0m\u001b[0;34m\u001b[0m\u001b[0;34m\u001b[0m\u001b[0m\n\u001b[0;32m--> 392\u001b[0;31m                     \u001b[0;32mraise\u001b[0m \u001b[0me\u001b[0m\u001b[0;34m\u001b[0m\u001b[0;34m\u001b[0m\u001b[0m\n\u001b[0m\u001b[1;32m    393\u001b[0m \u001b[0;34m\u001b[0m\u001b[0m\n\u001b[1;32m    394\u001b[0m             \u001b[0;32melse\u001b[0m\u001b[0;34m:\u001b[0m\u001b[0;34m\u001b[0m\u001b[0;34m\u001b[0m\u001b[0m\n",
      "\u001b[0;32m/opt/conda/lib/python3.8/site-packages/elasticsearch/transport.py\u001b[0m in \u001b[0;36mperform_request\u001b[0;34m(self, method, url, headers, params, body)\u001b[0m\n\u001b[1;32m    356\u001b[0m \u001b[0;34m\u001b[0m\u001b[0m\n\u001b[1;32m    357\u001b[0m             \u001b[0;32mtry\u001b[0m\u001b[0;34m:\u001b[0m\u001b[0;34m\u001b[0m\u001b[0;34m\u001b[0m\u001b[0m\n\u001b[0;32m--> 358\u001b[0;31m                 status, headers_response, data = connection.perform_request(\n\u001b[0m\u001b[1;32m    359\u001b[0m                     \u001b[0mmethod\u001b[0m\u001b[0;34m,\u001b[0m\u001b[0;34m\u001b[0m\u001b[0;34m\u001b[0m\u001b[0m\n\u001b[1;32m    360\u001b[0m                     \u001b[0murl\u001b[0m\u001b[0;34m,\u001b[0m\u001b[0;34m\u001b[0m\u001b[0;34m\u001b[0m\u001b[0m\n",
      "\u001b[0;32m/opt/conda/lib/python3.8/site-packages/elasticsearch/connection/http_urllib3.py\u001b[0m in \u001b[0;36mperform_request\u001b[0;34m(self, method, url, params, body, timeout, ignore, headers)\u001b[0m\n\u001b[1;32m    267\u001b[0m                 \u001b[0mmethod\u001b[0m\u001b[0;34m,\u001b[0m \u001b[0mfull_url\u001b[0m\u001b[0;34m,\u001b[0m \u001b[0murl\u001b[0m\u001b[0;34m,\u001b[0m \u001b[0morig_body\u001b[0m\u001b[0;34m,\u001b[0m \u001b[0mduration\u001b[0m\u001b[0;34m,\u001b[0m \u001b[0mresponse\u001b[0m\u001b[0;34m.\u001b[0m\u001b[0mstatus\u001b[0m\u001b[0;34m,\u001b[0m \u001b[0mraw_data\u001b[0m\u001b[0;34m\u001b[0m\u001b[0;34m\u001b[0m\u001b[0m\n\u001b[1;32m    268\u001b[0m             )\n\u001b[0;32m--> 269\u001b[0;31m             \u001b[0mself\u001b[0m\u001b[0;34m.\u001b[0m\u001b[0m_raise_error\u001b[0m\u001b[0;34m(\u001b[0m\u001b[0mresponse\u001b[0m\u001b[0;34m.\u001b[0m\u001b[0mstatus\u001b[0m\u001b[0;34m,\u001b[0m \u001b[0mraw_data\u001b[0m\u001b[0;34m)\u001b[0m\u001b[0;34m\u001b[0m\u001b[0;34m\u001b[0m\u001b[0m\n\u001b[0m\u001b[1;32m    270\u001b[0m \u001b[0;34m\u001b[0m\u001b[0m\n\u001b[1;32m    271\u001b[0m         self.log_request_success(\n",
      "\u001b[0;32m/opt/conda/lib/python3.8/site-packages/elasticsearch/connection/base.py\u001b[0m in \u001b[0;36m_raise_error\u001b[0;34m(self, status_code, raw_data)\u001b[0m\n\u001b[1;32m    298\u001b[0m             \u001b[0mlogger\u001b[0m\u001b[0;34m.\u001b[0m\u001b[0mwarning\u001b[0m\u001b[0;34m(\u001b[0m\u001b[0;34m\"Undecodable raw error response from server: %s\"\u001b[0m\u001b[0;34m,\u001b[0m \u001b[0merr\u001b[0m\u001b[0;34m)\u001b[0m\u001b[0;34m\u001b[0m\u001b[0;34m\u001b[0m\u001b[0m\n\u001b[1;32m    299\u001b[0m \u001b[0;34m\u001b[0m\u001b[0m\n\u001b[0;32m--> 300\u001b[0;31m         raise HTTP_EXCEPTIONS.get(status_code, TransportError)(\n\u001b[0m\u001b[1;32m    301\u001b[0m             \u001b[0mstatus_code\u001b[0m\u001b[0;34m,\u001b[0m \u001b[0merror_message\u001b[0m\u001b[0;34m,\u001b[0m \u001b[0madditional_info\u001b[0m\u001b[0;34m\u001b[0m\u001b[0;34m\u001b[0m\u001b[0m\n\u001b[1;32m    302\u001b[0m         )\n",
      "\u001b[0;31mRequestError\u001b[0m: RequestError(400, 'parsing_exception', 'Failed to parse')"
     ]
    }
   ],
   "source": [
    "es = Elasticsearch('http://es01:9200')\n",
    "es.count('rubrics')\n",
    "# body={\"query\": {\"match_all\": {}}}\n",
    "# body = {  \"size\" : 1000,  \"_source\" : [\"id\"]}\n",
    "\n",
    "# results = elasticsearch.helpers.scan(es, query=body, index=\"articles\")\n",
    "\n",
    "# df = pd.DataFrame.from_dict([document['_source'] for document in results])\n",
    "# df"
   ]
  },
  {
   "cell_type": "code",
   "execution_count": 58,
   "metadata": {},
   "outputs": [
    {
     "name": "stdout",
     "output_type": "stream",
     "text": [
      "10000\n",
      "k8OvAwFaAXN4RkdsdVkyeDFaR1ZmWTI5dWRHVjRkRjkxZFdsa0RYRjFaWEo1UVc1a1JtVjBZMmdCRkdZeFNFUnJTRlZDVkVoYVZscFlXRGhCTUVwMkFBQUFBQUFCcngwV1pXaEhRWFpTVEhsUmRGTXdMWFZuTkVzdE1YTk1RUT09/////w8BAWYGb2JqX2lkAQZvYmpfaWQBBHRleHQAAAABAQ==\n",
      "10000\n",
      "k8OvAwFaAXN4RkdsdVkyeDFaR1ZmWTI5dWRHVjRkRjkxZFdsa0RYRjFaWEo1UVc1a1JtVjBZMmdCRkdZeFNFUnJTRlZDVkVoYVZscFlXRGhCTUVwMkFBQUFBQUFCcngwV1pXaEhRWFpTVEhsUmRGTXdMWFZuTkVzdE1YTk1RUT09/////w8BAWYGb2JqX2lkAQZvYmpfaWQBBHRleHQAAAABAQ==\n",
      "res1={'succeeded': True}\n",
      "CPU times: user 21.1 ms, sys: 4.17 ms, total: 25.3 ms\n",
      "Wall time: 3.19 s\n"
     ]
    }
   ],
   "source": [
    "%%time\n",
    "# https://elasticsearch-py.readthedocs.io/en/7.9.1/xpack.html#sql-apis\n",
    "res = es.sql.query({\"query\": \"select obj_id from articles\", \"fetch_size\":10000 })\n",
    "print(len(res['rows']))\n",
    "cursor = res.get('cursor')\n",
    "print(cursor)\n",
    "\n",
    "res = es.sql.query({\"cursor\": cursor})\n",
    "print(len(res['rows']))\n",
    "cursor = res.get('cursor')\n",
    "print(cursor)\n",
    "\n",
    "res1 = \"didn't try\"\n",
    "if (cursor):\n",
    "    res1 = es.sql.clear_cursor({\"cursor\":cursor})\n",
    "\n",
    "print(f'res1={res1}')"
   ]
  },
  {
   "cell_type": "code",
   "execution_count": 28,
   "metadata": {},
   "outputs": [
    {
     "name": "stdout",
     "output_type": "stream",
     "text": [
      "9000\n"
     ]
    }
   ],
   "source": [
    "result_dict = es.search(index=\"articles\", body={\"size\":9000, \"_source\" : [\"obj_id\"]})\n",
    "print(len(result_dict['hits']['hits']))\n",
    "\n"
   ]
  },
  {
   "cell_type": "code",
   "execution_count": 29,
   "metadata": {},
   "outputs": [
    {
     "data": {
      "text/html": [
       "<div>\n",
       "<style scoped>\n",
       "    .dataframe tbody tr th:only-of-type {\n",
       "        vertical-align: middle;\n",
       "    }\n",
       "\n",
       "    .dataframe tbody tr th {\n",
       "        vertical-align: top;\n",
       "    }\n",
       "\n",
       "    .dataframe thead th {\n",
       "        text-align: right;\n",
       "    }\n",
       "</style>\n",
       "<table border=\"1\" class=\"dataframe\">\n",
       "  <thead>\n",
       "    <tr style=\"text-align: right;\">\n",
       "      <th></th>\n",
       "      <th>_index</th>\n",
       "      <th>_type</th>\n",
       "      <th>_id</th>\n",
       "      <th>_score</th>\n",
       "      <th>obj_id</th>\n",
       "    </tr>\n",
       "  </thead>\n",
       "  <tbody>\n",
       "    <tr>\n",
       "      <th>0</th>\n",
       "      <td>articles</td>\n",
       "      <td>_doc</td>\n",
       "      <td>621612</td>\n",
       "      <td>1.0</td>\n",
       "      <td>621612</td>\n",
       "    </tr>\n",
       "    <tr>\n",
       "      <th>1</th>\n",
       "      <td>articles</td>\n",
       "      <td>_doc</td>\n",
       "      <td>414430</td>\n",
       "      <td>1.0</td>\n",
       "      <td>414430</td>\n",
       "    </tr>\n",
       "    <tr>\n",
       "      <th>2</th>\n",
       "      <td>articles</td>\n",
       "      <td>_doc</td>\n",
       "      <td>414899</td>\n",
       "      <td>1.0</td>\n",
       "      <td>414899</td>\n",
       "    </tr>\n",
       "    <tr>\n",
       "      <th>3</th>\n",
       "      <td>articles</td>\n",
       "      <td>_doc</td>\n",
       "      <td>740026</td>\n",
       "      <td>1.0</td>\n",
       "      <td>740026</td>\n",
       "    </tr>\n",
       "    <tr>\n",
       "      <th>4</th>\n",
       "      <td>articles</td>\n",
       "      <td>_doc</td>\n",
       "      <td>1747275</td>\n",
       "      <td>1.0</td>\n",
       "      <td>1747275</td>\n",
       "    </tr>\n",
       "    <tr>\n",
       "      <th>...</th>\n",
       "      <td>...</td>\n",
       "      <td>...</td>\n",
       "      <td>...</td>\n",
       "      <td>...</td>\n",
       "      <td>...</td>\n",
       "    </tr>\n",
       "    <tr>\n",
       "      <th>8995</th>\n",
       "      <td>articles</td>\n",
       "      <td>_doc</td>\n",
       "      <td>322835</td>\n",
       "      <td>1.0</td>\n",
       "      <td>322835</td>\n",
       "    </tr>\n",
       "    <tr>\n",
       "      <th>8996</th>\n",
       "      <td>articles</td>\n",
       "      <td>_doc</td>\n",
       "      <td>323364</td>\n",
       "      <td>1.0</td>\n",
       "      <td>323364</td>\n",
       "    </tr>\n",
       "    <tr>\n",
       "      <th>8997</th>\n",
       "      <td>articles</td>\n",
       "      <td>_doc</td>\n",
       "      <td>321121</td>\n",
       "      <td>1.0</td>\n",
       "      <td>321121</td>\n",
       "    </tr>\n",
       "    <tr>\n",
       "      <th>8998</th>\n",
       "      <td>articles</td>\n",
       "      <td>_doc</td>\n",
       "      <td>321603</td>\n",
       "      <td>1.0</td>\n",
       "      <td>321603</td>\n",
       "    </tr>\n",
       "    <tr>\n",
       "      <th>8999</th>\n",
       "      <td>articles</td>\n",
       "      <td>_doc</td>\n",
       "      <td>321490</td>\n",
       "      <td>1.0</td>\n",
       "      <td>321490</td>\n",
       "    </tr>\n",
       "  </tbody>\n",
       "</table>\n",
       "<p>9000 rows × 5 columns</p>\n",
       "</div>"
      ],
      "text/plain": [
       "        _index _type      _id  _score   obj_id\n",
       "0     articles  _doc   621612     1.0   621612\n",
       "1     articles  _doc   414430     1.0   414430\n",
       "2     articles  _doc   414899     1.0   414899\n",
       "3     articles  _doc   740026     1.0   740026\n",
       "4     articles  _doc  1747275     1.0  1747275\n",
       "...        ...   ...      ...     ...      ...\n",
       "8995  articles  _doc   322835     1.0   322835\n",
       "8996  articles  _doc   323364     1.0   323364\n",
       "8997  articles  _doc   321121     1.0   321121\n",
       "8998  articles  _doc   321603     1.0   321603\n",
       "8999  articles  _doc   321490     1.0   321490\n",
       "\n",
       "[9000 rows x 5 columns]"
      ]
     },
     "metadata": {},
     "output_type": "display_data"
    },
    {
     "name": "stdout",
     "output_type": "stream",
     "text": [
      "CPU times: user 44.6 ms, sys: 2.86 ms, total: 47.4 ms\n",
      "Wall time: 45 ms\n"
     ]
    }
   ],
   "source": [
    "%%time\n",
    "\n",
    "df = Select.from_dict(result_dict).to_pandas()\n",
    "display(df)"
   ]
  },
  {
   "cell_type": "code",
   "execution_count": null,
   "metadata": {},
   "outputs": [],
   "source": []
  }
 ],
 "metadata": {
  "kernelspec": {
   "display_name": "Python 3",
   "language": "python",
   "name": "python3"
  },
  "language_info": {
   "codemirror_mode": {
    "name": "ipython",
    "version": 3
   },
   "file_extension": ".py",
   "mimetype": "text/x-python",
   "name": "python",
   "nbconvert_exporter": "python",
   "pygments_lexer": "ipython3",
   "version": "3.8.6"
  }
 },
 "nbformat": 4,
 "nbformat_minor": 4
}
