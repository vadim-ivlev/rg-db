{
 "cells": [
  {
   "cell_type": "markdown",
   "metadata": {},
   "source": [
    "# Запросы к Elasticsearch из Javascript\n",
    "Этот пример показывает как делать запросы к Elasticsearch из Javascript."
   ]
  },
  {
   "cell_type": "code",
   "execution_count": 7,
   "metadata": {},
   "outputs": [
    {
     "data": {
      "text/html": [
       "<div id=\"chart-response\" style=\"height:400px; border: 1px dashed silver;\" ></div>\n"
      ],
      "text/plain": [
       "<IPython.core.display.HTML object>"
      ]
     },
     "metadata": {},
     "output_type": "display_data"
    }
   ],
   "source": [
    "%%html\n",
    "<div id=\"chart-response\" style=\"height:400px; border: 1px dashed silver;\" ></div>"
   ]
  },
  {
   "cell_type": "code",
   "execution_count": 5,
   "metadata": {},
   "outputs": [
    {
     "data": {
      "application/javascript": [
       "\n",
       "require(['https://cdn.plot.ly/plotly-latest.min.js'],(Plotly)=>{\n",
       "\n",
       "    console.log('Plotly=',Plotly)\n",
       "    \n",
       "    // строит график\n",
       "    function showPlot(containerElement, data) {\n",
       "        var rows = data['rows']\n",
       "        var xx = rows.map(r => r[0])\n",
       "        var yy = rows.map(r => r[1]) \n",
       "        var d = [{ x: xx, y: yy, text: yy, textposition: 'auto', type: 'bar' }]\n",
       "        var layout = {\n",
       "            title: 'Количество записей лога в 30-ти сек интервалах ',\n",
       "        }\n",
       "        Plotly.newPlot( containerElement, d , layout )\n",
       "    }\n",
       "\n",
       "\n",
       "    // выполняет запрос к эластик\n",
       "    async function doQuery(url, query) {\n",
       "        var res = await fetch(url, { \n",
       "            method: 'POST',\n",
       "            headers: {'Content-Type': 'application/json'},\n",
       "            body: JSON.stringify(query),\n",
       "        })\n",
       "        var data = await res.json()\n",
       "        showPlot(document.getElementById('chart-response'), data)\n",
       "    }\n",
       "\n",
       "\n",
       "    const url = \"https://log-monitor.rg.ru/elasticsearch/_sql?format=json\"\n",
       "    const query = { query: `\n",
       "    SELECT HISTOGRAM(\"@timestamp\", INTERVAL 30 SECOND) as interval, \n",
       "    count(*) as count\n",
       "    FROM \"log-generator-logrus*\"\n",
       "    GROUP by interval\n",
       "    ORDER BY interval DESC\n",
       "    LIMIT 30        \n",
       "    ` }\n",
       "    \n",
       "    // делаем запросы каждые 3 сек\n",
       "     var reqInterval = setInterval(()=> doQuery(url,query), 3000)\n",
       "     doQuery(url,query)\n",
       "    \n",
       "})\n"
      ],
      "text/plain": [
       "<IPython.core.display.Javascript object>"
      ]
     },
     "metadata": {},
     "output_type": "display_data"
    }
   ],
   "source": [
    "%%javascript\n",
    "\n",
    "require(['https://cdn.plot.ly/plotly-latest.min.js'],(Plotly)=>{\n",
    "    \n",
    "    // Конечная точка Elasticsearch \n",
    "    const url = \"https://log-monitor.rg.ru/elasticsearch/_sql?format=json\"\n",
    "    \n",
    "    // Запрос который будем выполнять\n",
    "    const query = { query: `\n",
    "    SELECT HISTOGRAM(\"@timestamp\", INTERVAL 30 SECOND) as interval, \n",
    "    count(*) as count\n",
    "    FROM \"log-generator-logrus*\"\n",
    "    GROUP by interval\n",
    "    ORDER BY interval DESC\n",
    "    LIMIT 30        \n",
    "    ` }\n",
    " \n",
    "    \n",
    "    // выполняет запрос к эластик\n",
    "    async function doQuery(url, query) {\n",
    "        var res = await fetch(url, { \n",
    "            method: 'POST',\n",
    "            headers: {'Content-Type': 'application/json'},\n",
    "            body: JSON.stringify(query),\n",
    "        })\n",
    "        var data = await res.json()\n",
    "        showPlot(document.getElementById('chart-response'), data)\n",
    "    }\n",
    "\n",
    "    // строит график\n",
    "    function showPlot(containerElement, data) {\n",
    "        var rows = data['rows']\n",
    "        var xx = rows.map(r => r[0])\n",
    "        var yy = rows.map(r => r[1]) \n",
    "        var d = [{ x: xx, y: yy, text: yy, textposition: 'auto', type: 'bar' }]\n",
    "        var layout = {\n",
    "            title: 'Количество записей лога в 30-ти сек интервалах ',\n",
    "        }\n",
    "        Plotly.newPlot( containerElement, d , layout )\n",
    "    }\n",
    "   \n",
    "    // делаем запросы каждые 3 сек\n",
    "    setInterval(()=> doQuery(url,query), 3000)\n",
    "\n",
    "})"
   ]
  }
 ],
 "metadata": {
  "kernelspec": {
   "display_name": "Python 3",
   "language": "python",
   "name": "python3"
  },
  "language_info": {
   "codemirror_mode": {
    "name": "ipython",
    "version": 3
   },
   "file_extension": ".py",
   "mimetype": "text/x-python",
   "name": "python",
   "nbconvert_exporter": "python",
   "pygments_lexer": "ipython3",
   "version": "3.7.6"
  }
 },
 "nbformat": 4,
 "nbformat_minor": 4
}
